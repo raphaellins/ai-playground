{
  "nbformat": 4,
  "nbformat_minor": 0,
  "metadata": {
    "colab": {
      "name": "logistic_regression_sklearn.ipynb",
      "provenance": [],
      "authorship_tag": "ABX9TyMeSyTi2vrD3BUrJSIjpQRC",
      "include_colab_link": true
    },
    "kernelspec": {
      "name": "python3",
      "display_name": "Python 3"
    }
  },
  "cells": [
    {
      "cell_type": "markdown",
      "metadata": {
        "id": "view-in-github",
        "colab_type": "text"
      },
      "source": [
        "<a href=\"https://colab.research.google.com/github/raphaellins/ai-playground/blob/master/logistic_regression_sklearn.ipynb\" target=\"_parent\"><img src=\"https://colab.research.google.com/assets/colab-badge.svg\" alt=\"Open In Colab\"/></a>"
      ]
    },
    {
      "cell_type": "code",
      "metadata": {
        "id": "gaw-ewDYT5sj",
        "colab_type": "code",
        "colab": {}
      },
      "source": [
        "import pandas as pd\n",
        "base = pd.read_csv('census.csv')"
      ],
      "execution_count": null,
      "outputs": []
    },
    {
      "cell_type": "code",
      "metadata": {
        "id": "W_hm4RIOUCIc",
        "colab_type": "code",
        "colab": {}
      },
      "source": [
        "base.head()\n",
        "x = base.iloc[:, 0:14].values\n",
        "y = base.iloc[:, 14].values"
      ],
      "execution_count": null,
      "outputs": []
    },
    {
      "cell_type": "code",
      "metadata": {
        "id": "QQYj6n4yUR4t",
        "colab_type": "code",
        "colab": {}
      },
      "source": [
        "from sklearn.preprocessing import LabelEncoder\n",
        "label_encoder = LabelEncoder()\n",
        "x[:, 1] = label_encoder.fit_transform(Xx:, 1])\n",
        "x[:, 3] = label_encoder.fit_transform(x[:, 3])\n",
        "x[:, 4] = label_encoder.fit_transform(x[:, 4])\n",
        "x[:, 6] = label_encoder.fit_transform(x[:, 6])\n",
        "x[:, 7] = label_encoder.fit_transform(x[:, 7])\n",
        "x[:, 8] = label_encoder.fit_transform(x[:, 8])\n",
        "x[:, 9] = label_encoder.fit_transform(x[:, 9])\n",
        "x[:, 10] = label_encoder.fit_transform(x[:, 10])\n",
        "x[:, 13] = label_encoder.fit_transform(x[:, 13])"
      ],
      "execution_count": null,
      "outputs": []
    },
    {
      "cell_type": "code",
      "metadata": {
        "id": "NYyBDrd4U3lv",
        "colab_type": "code",
        "colab": {}
      },
      "source": [
        "from sklearn.preprocessing import StandardScaler\n",
        "scaler_x = StandardScaler()\n",
        "x = scaler_x.fit_transform(x)"
      ],
      "execution_count": null,
      "outputs": []
    },
    {
      "cell_type": "code",
      "metadata": {
        "id": "KZZymZQ_VOkM",
        "colab_type": "code",
        "colab": {}
      },
      "source": [
        "from sklearn.model_selection import train_test_split\n",
        "x_treinamento, x_test, y_treinamento, y_test =  train_test_split(x, y, test_size= 0.3)\n",
        "from sklearn.linear_model import LogisticRegression\n",
        "classificador = LogisticRegression(max_iter = 10000)\n",
        "classificador.fit(x_treinamento, y_treinamento)"
      ],
      "execution_count": null,
      "outputs": []
    },
    {
      "cell_type": "code",
      "metadata": {
        "id": "-lV-Y04PVoIy",
        "colab_type": "code",
        "colab": {}
      },
      "source": [
        "previsoes = classificador.predict(x_teste)\n",
        "from sklearn.metrics import accuracy_score\n",
        "taxa_acerto = accuracy_score(y_test, previsoes)"
      ],
      "execution_count": null,
      "outputs": []
    }
  ]
}