{
  "nbformat": 4,
  "nbformat_minor": 0,
  "metadata": {
    "colab": {
      "name": "creating_linear_regression_from_scratch.ipynb",
      "provenance": [],
      "authorship_tag": "ABX9TyMzPkS+9cgxqxOXRXnNYEvc",
      "include_colab_link": true
    },
    "kernelspec": {
      "name": "python3",
      "display_name": "Python 3"
    }
  },
  "cells": [
    {
      "cell_type": "markdown",
      "metadata": {
        "id": "view-in-github",
        "colab_type": "text"
      },
      "source": [
        "<a href=\"https://colab.research.google.com/github/raphaellins/ai-playground/blob/master/creating_linear_regression_from_scratch.ipynb\" target=\"_parent\"><img src=\"https://colab.research.google.com/assets/colab-badge.svg\" alt=\"Open In Colab\"/></a>"
      ]
    },
    {
      "cell_type": "code",
      "metadata": {
        "id": "FAYmfG8_zc_L"
      },
      "source": [
        "from statistics import mean\n",
        "import numpy as np\n",
        "import matplotlib.pyplot as plt\n",
        "from matplotlib import style\n",
        "import random \n",
        "style.use('fivethirtyeight')\n",
        "import pandas as pd"
      ],
      "execution_count": 12,
      "outputs": []
    },
    {
      "cell_type": "code",
      "metadata": {
        "id": "JoW0zKs6znmP"
      },
      "source": [
        "xs = np.array([1,2,3,4,5,6], dtype=np.float64)\n",
        "ys = np.array([5,4,6,5,6,7], dtype=np.float64)"
      ],
      "execution_count": 5,
      "outputs": []
    },
    {
      "cell_type": "code",
      "metadata": {
        "id": "zJZE4Ys9zyBy"
      },
      "source": [
        "plt.scatter(xs, ys)\n",
        "plt.show()"
      ],
      "execution_count": null,
      "outputs": []
    },
    {
      "cell_type": "code",
      "metadata": {
        "id": "3hvyYRHUz4je"
      },
      "source": [
        "def create_dataset(hm, variance, step=2, correlation=False):\n",
        "  val = 1\n",
        "  ys = []\n",
        "  for i in range(hm):\n",
        "    y = val + random.randrange(-variance, variance)\n",
        "    ys.append(y)\n",
        "    if correlation and correlation == 'pos':\n",
        "      val +=step\n",
        "    elif correlation and correlation == 'neg':\n",
        "      val -=step\n",
        "\n",
        "  xs = [i for i in range(len(ys))]\n",
        "\n",
        "  return np.array(xs, dtype=np.float64), np.array(ys, dtype=np.float64)\n",
        "\n",
        "def best_fit_slope_and_intercept(xs, ys):\n",
        "  m = ( ((mean(xs) * mean(ys)) - mean(xs*ys)) /\n",
        "        ((mean(xs)**2) - mean(xs*xs)))\n",
        "  \n",
        "  b = mean(ys) - m*mean(xs)\n",
        "\n",
        "  return m, b\n",
        "\n",
        "def squared_error(ys_orig, ys_line):\n",
        "  return sum((ys_line-ys_orig) ** 2)\n",
        "\n",
        "def coefficient_of_determination(ys_orig, ys_line):\n",
        "  y_mean_line = [mean(ys_orig) for y in ys_orig]\n",
        "  squared_error_regr = squared_error(ys_orig, ys_line)\n",
        "  squared_error_y_mean = squared_error(ys_orig, y_mean_line)\n",
        "  return 1 - (squared_error_regr / squared_error_y_mean)\n",
        "\n",
        "xs, ys = create_dataset(40, 40, 2, correlation='pos')\n",
        "\n",
        "m, b = best_fit_slope_and_intercept(xs, ys)"
      ],
      "execution_count": 15,
      "outputs": []
    },
    {
      "cell_type": "code",
      "metadata": {
        "id": "9dstWiAI1RM0"
      },
      "source": [
        "regression_line = [(m*x) + b for  x in xs]\n",
        "\n",
        "predict_x = 8\n",
        "\n",
        "predict_y = (m*predict_x) + b\n",
        "\n",
        "r_squared = coefficient_of_determination(ys, regression_line)\n"
      ],
      "execution_count": 16,
      "outputs": []
    },
    {
      "cell_type": "code",
      "metadata": {
        "id": "cjHBdRzz2wWf"
      },
      "source": [
        "plt.scatter(xs, ys)\n",
        "plt.scatter(predict_x, predict_y, color=g)\n",
        "plt.plot(xs, regression_line)\n",
        "plt.show()"
      ],
      "execution_count": null,
      "outputs": []
    }
  ]
}