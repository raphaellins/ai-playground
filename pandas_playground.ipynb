{
  "nbformat": 4,
  "nbformat_minor": 0,
  "metadata": {
    "colab": {
      "name": "pandas_playground.ipynb",
      "provenance": [],
      "mount_file_id": "1IjbG2aSiUPWd--Gni6kOTSQ4KH6Rrl6r",
      "authorship_tag": "ABX9TyMyCfkQXkVn2fCQZ7dIISQO",
      "include_colab_link": true
    },
    "kernelspec": {
      "name": "python3",
      "display_name": "Python 3"
    }
  },
  "cells": [
    {
      "cell_type": "markdown",
      "metadata": {
        "id": "view-in-github",
        "colab_type": "text"
      },
      "source": [
        "<a href=\"https://colab.research.google.com/github/raphaellins/ai-playground/blob/master/pandas_playground.ipynb\" target=\"_parent\"><img src=\"https://colab.research.google.com/assets/colab-badge.svg\" alt=\"Open In Colab\"/></a>"
      ]
    },
    {
      "cell_type": "code",
      "metadata": {
        "id": "SThlxSgeQH2l",
        "colab_type": "code",
        "colab": {}
      },
      "source": [
        "import pandas as pd\n",
        "df = pd.read_csv('/content/drive/My Drive/MLAZ/pokemon_data.csv')"
      ],
      "execution_count": 1,
      "outputs": []
    },
    {
      "cell_type": "code",
      "metadata": {
        "id": "YWKSvyUxRauM",
        "colab_type": "code",
        "colab": {}
      },
      "source": [
        "#read headers\n",
        "df.columns"
      ],
      "execution_count": null,
      "outputs": []
    },
    {
      "cell_type": "code",
      "metadata": {
        "id": "CRHQpfr9SJu_",
        "colab_type": "code",
        "colab": {}
      },
      "source": [
        "#read each column\n",
        "df['Name']\n",
        "# df['Name'][0:5]\n",
        "#df[['Name','Type 1']]"
      ],
      "execution_count": null,
      "outputs": []
    },
    {
      "cell_type": "code",
      "metadata": {
        "id": "m4P3TNllSadf",
        "colab_type": "code",
        "colab": {}
      },
      "source": [
        "#read each row\n",
        "# df.head(4)\n",
        "df.iloc[1:4]  "
      ],
      "execution_count": null,
      "outputs": []
    },
    {
      "cell_type": "code",
      "metadata": {
        "id": "nJDZFUqwS8RY",
        "colab_type": "code",
        "colab": {}
      },
      "source": [
        "# read a specific location\n",
        "df.iloc[2, 1] # row/column"
      ],
      "execution_count": null,
      "outputs": []
    },
    {
      "cell_type": "code",
      "metadata": {
        "id": "qXRvs5qiTKaI",
        "colab_type": "code",
        "colab": {}
      },
      "source": [
        "# read each row\n",
        "for index, row in df.iterrows():\n",
        "  print(index, row['Name'])"
      ],
      "execution_count": null,
      "outputs": []
    },
    {
      "cell_type": "code",
      "metadata": {
        "id": "-mXN64KbTWca",
        "colab_type": "code",
        "colab": {}
      },
      "source": [
        "# specific rows with condititions\n",
        "df.loc[df['Type 1'] == 'Fire']"
      ],
      "execution_count": null,
      "outputs": []
    },
    {
      "cell_type": "code",
      "metadata": {
        "id": "VBbBt81ZTtzU",
        "colab_type": "code",
        "colab": {}
      },
      "source": [
        "# sort/describe\n",
        "df.describe()"
      ],
      "execution_count": null,
      "outputs": []
    },
    {
      "cell_type": "code",
      "metadata": {
        "id": "mqU0DgLwTw59",
        "colab_type": "code",
        "colab": {}
      },
      "source": [
        "# sort values\n",
        "df.sort_values(['Type 1', 'HP'], ascending=[False, True])"
      ],
      "execution_count": null,
      "outputs": []
    },
    {
      "cell_type": "code",
      "metadata": {
        "id": "Uj2R1VgMUaKo",
        "colab_type": "code",
        "colab": {}
      },
      "source": [
        "df.head(5)"
      ],
      "execution_count": null,
      "outputs": []
    },
    {
      "cell_type": "code",
      "metadata": {
        "id": "iUZVZzdBUnJR",
        "colab_type": "code",
        "colab": {}
      },
      "source": [
        "# Making changes to the data\n",
        "# for each row it will do the SUM and create a new column\n",
        "df['Total'] = df['HP'] + df['Attack']\n",
        "df.head(5)"
      ],
      "execution_count": null,
      "outputs": []
    },
    {
      "cell_type": "code",
      "metadata": {
        "id": "W4e6hChWVA1J",
        "colab_type": "code",
        "colab": {}
      },
      "source": [
        "# drop specify columns\n",
        "df = df.drop(columns=['Total'])"
      ],
      "execution_count": 15,
      "outputs": []
    },
    {
      "cell_type": "code",
      "metadata": {
        "id": "U-xi_qX0VUNL",
        "colab_type": "code",
        "colab": {}
      },
      "source": [
        "# another way to add a total column\n",
        "df['Total'] = df.iloc[:, 4:9].sum(axis=1)\n",
        "\n",
        "cols = list(df.columns.values)\n",
        "df = df[cols[0:4] + [cols[-1]] + cols[4:12]]"
      ],
      "execution_count": null,
      "outputs": []
    }
  ]
}