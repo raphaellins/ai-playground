{
  "nbformat": 4,
  "nbformat_minor": 0,
  "metadata": {
    "colab": {
      "name": "pandas_playground.ipynb",
      "provenance": [],
      "mount_file_id": "10xAQ0iiduF55BKLJutd4pF9j1nu-i50N",
      "authorship_tag": "ABX9TyMm7fzhN5JKcTe2KVrwYyQI",
      "include_colab_link": true
    },
    "kernelspec": {
      "name": "python3",
      "display_name": "Python 3"
    }
  },
  "cells": [
    {
      "cell_type": "markdown",
      "metadata": {
        "id": "view-in-github",
        "colab_type": "text"
      },
      "source": [
        "<a href=\"https://colab.research.google.com/github/raphaellins/ai-playground/blob/master/pandas_playground.ipynb\" target=\"_parent\"><img src=\"https://colab.research.google.com/assets/colab-badge.svg\" alt=\"Open In Colab\"/></a>"
      ]
    },
    {
      "cell_type": "code",
      "metadata": {
        "id": "LJZy8Fs5m6Lo",
        "colab_type": "code",
        "colab": {}
      },
      "source": [
        "import pandas as pd\n",
        "df = pd.read_csv('/content/drive/My Drive/MLAZ/pokemon_data.csv')"
      ],
      "execution_count": null,
      "outputs": []
    },
    {
      "cell_type": "code",
      "metadata": {
        "id": "io98jFY2noN5",
        "colab_type": "code",
        "colab": {}
      },
      "source": [
        "df.columns"
      ],
      "execution_count": null,
      "outputs": []
    },
    {
      "cell_type": "code",
      "metadata": {
        "id": "EOsDYA1PnwQy",
        "colab_type": "code",
        "colab": {}
      },
      "source": [
        "df['Speed'][0:5]\n",
        "df[['Name', 'Defense']][0:10]"
      ],
      "execution_count": null,
      "outputs": []
    },
    {
      "cell_type": "code",
      "metadata": {
        "id": "_WO_fFY0oKaS",
        "colab_type": "code",
        "colab": {}
      },
      "source": [
        "df.head"
      ],
      "execution_count": null,
      "outputs": []
    },
    {
      "cell_type": "code",
      "metadata": {
        "id": "76crp-rZoUaS",
        "colab_type": "code",
        "colab": {}
      },
      "source": [
        "df.head(4)\n",
        "df.iloc[0:4]\n",
        "df.iloc[2, 1] #row/column\n",
        "df.iloc[0:4]"
      ],
      "execution_count": null,
      "outputs": []
    },
    {
      "cell_type": "code",
      "metadata": {
        "id": "8weoLdZSo53f",
        "colab_type": "code",
        "colab": {}
      },
      "source": [
        "for index, row in df.iterrows():\n",
        "  print(index, row['Name'])"
      ],
      "execution_count": null,
      "outputs": []
    },
    {
      "cell_type": "code",
      "metadata": {
        "id": "Q8WsUOY4pHHq",
        "colab_type": "code",
        "colab": {}
      },
      "source": [
        "df.loc[df['Type 2'] == 'Dragon']"
      ],
      "execution_count": null,
      "outputs": []
    },
    {
      "cell_type": "code",
      "metadata": {
        "id": "qYiKVTCJpoAj",
        "colab_type": "code",
        "colab": {}
      },
      "source": [
        "df.describe()"
      ],
      "execution_count": null,
      "outputs": []
    },
    {
      "cell_type": "code",
      "metadata": {
        "id": "EGjnQH7ZpxHE",
        "colab_type": "code",
        "colab": {}
      },
      "source": [
        "df.sort_values(['Name', 'HP'], ascending=[True, False])"
      ],
      "execution_count": null,
      "outputs": []
    },
    {
      "cell_type": "code",
      "metadata": {
        "id": "BFtwfK8jqYes",
        "colab_type": "code",
        "colab": {}
      },
      "source": [
        "df.head(4)\n",
        "df['Total'] = df['HP'] + df['Attack']\n",
        "df.head(4)\n",
        "\n",
        "df = df.drop(columns=['Total'])"
      ],
      "execution_count": null,
      "outputs": []
    },
    {
      "cell_type": "code",
      "metadata": {
        "id": "Z5mlWJvGq7Hy",
        "colab_type": "code",
        "colab": {}
      },
      "source": [
        "df['Total'] = df.iloc[:, 4:9].sum(axis=1)\n",
        "\n",
        "df.to_csv('/content/drive/My Drive/MLAZ/pokemon_data_2.csv', index=False)\n",
        "\n",
        "df_new = pd.read_csv('/content/drive/My Drive/MLAZ/pokemon_data_2.csv')\n",
        "df_new"
      ],
      "execution_count": null,
      "outputs": []
    },
    {
      "cell_type": "code",
      "metadata": {
        "id": "gVEsNVHPr9Wx",
        "colab_type": "code",
        "colab": {
          "base_uri": "https://localhost:8080/",
          "height": 80
        },
        "outputId": "933072bf-7676-44fa-ef20-eee8579af301"
      },
      "source": [
        "df.loc[df['Type 1'] == 'Grass']\n",
        "df_filtering = df.loc[(df['Type 1'] == 'Grass') & (df['Type 2'] == 'Poison') & (df['HP'] > 100)]\n",
        "df_filtering"
      ],
      "execution_count": null,
      "outputs": [
        {
          "output_type": "execute_result",
          "data": {
            "text/html": [
              "<div>\n",
              "<style scoped>\n",
              "    .dataframe tbody tr th:only-of-type {\n",
              "        vertical-align: middle;\n",
              "    }\n",
              "\n",
              "    .dataframe tbody tr th {\n",
              "        vertical-align: top;\n",
              "    }\n",
              "\n",
              "    .dataframe thead th {\n",
              "        text-align: right;\n",
              "    }\n",
              "</style>\n",
              "<table border=\"1\" class=\"dataframe\">\n",
              "  <thead>\n",
              "    <tr style=\"text-align: right;\">\n",
              "      <th></th>\n",
              "      <th>#</th>\n",
              "      <th>Name</th>\n",
              "      <th>Type 1</th>\n",
              "      <th>Type 2</th>\n",
              "      <th>HP</th>\n",
              "      <th>Attack</th>\n",
              "      <th>Defense</th>\n",
              "      <th>Sp. Atk</th>\n",
              "      <th>Sp. Def</th>\n",
              "      <th>Speed</th>\n",
              "      <th>Generation</th>\n",
              "      <th>Legendary</th>\n",
              "      <th>Total</th>\n",
              "    </tr>\n",
              "  </thead>\n",
              "  <tbody>\n",
              "    <tr>\n",
              "      <th>652</th>\n",
              "      <td>591</td>\n",
              "      <td>Amoonguss</td>\n",
              "      <td>Grass</td>\n",
              "      <td>Poison</td>\n",
              "      <td>114</td>\n",
              "      <td>85</td>\n",
              "      <td>70</td>\n",
              "      <td>85</td>\n",
              "      <td>80</td>\n",
              "      <td>30</td>\n",
              "      <td>5</td>\n",
              "      <td>False</td>\n",
              "      <td>434</td>\n",
              "    </tr>\n",
              "  </tbody>\n",
              "</table>\n",
              "</div>"
            ],
            "text/plain": [
              "       #       Name Type 1  Type 2  ...  Speed  Generation  Legendary  Total\n",
              "652  591  Amoonguss  Grass  Poison  ...     30           5      False    434\n",
              "\n",
              "[1 rows x 13 columns]"
            ]
          },
          "metadata": {
            "tags": []
          },
          "execution_count": 49
        }
      ]
    }
  ]
}