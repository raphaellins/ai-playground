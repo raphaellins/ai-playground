{
  "nbformat": 4,
  "nbformat_minor": 0,
  "metadata": {
    "colab": {
      "name": "data_analysis_begining.ipynb",
      "provenance": [],
      "mount_file_id": "1P4g-4D1dSd0BMH4XJKhNq3dy5a2PGsaR",
      "authorship_tag": "ABX9TyPYd6GmluzmSyLw0ndahzsy",
      "include_colab_link": true
    },
    "kernelspec": {
      "name": "python3",
      "display_name": "Python 3"
    }
  },
  "cells": [
    {
      "cell_type": "markdown",
      "metadata": {
        "id": "view-in-github",
        "colab_type": "text"
      },
      "source": [
        "<a href=\"https://colab.research.google.com/github/raphaellins/ai-playground/blob/master/data_analysis_begining.ipynb\" target=\"_parent\"><img src=\"https://colab.research.google.com/assets/colab-badge.svg\" alt=\"Open In Colab\"/></a>"
      ]
    },
    {
      "cell_type": "code",
      "metadata": {
        "id": "CXU0NXpax9fE",
        "colab_type": "code",
        "colab": {}
      },
      "source": [
        "import pandas as pd\n",
        "import numpy as np\n",
        "import sys"
      ],
      "execution_count": 4,
      "outputs": []
    },
    {
      "cell_type": "code",
      "metadata": {
        "id": "vuW_GIvHyoC6",
        "colab_type": "code",
        "colab": {}
      },
      "source": [
        "df = pd.read_csv('/content/drive/My Drive/MLAZ/sales_data_for_analysis.csv')\n",
        "df.head()"
      ],
      "execution_count": null,
      "outputs": []
    },
    {
      "cell_type": "code",
      "metadata": {
        "id": "bsKVm5vw0nnU",
        "colab_type": "code",
        "colab": {}
      },
      "source": [
        "np.array([1,2,3,4])"
      ],
      "execution_count": null,
      "outputs": []
    },
    {
      "cell_type": "code",
      "metadata": {
        "id": "9FZp4ral5Ge-",
        "colab_type": "code",
        "colab": {}
      },
      "source": [
        "a = np.array([1,2,3,4])\n",
        "b = np.array([0, .5, 1, 1.5, 2])"
      ],
      "execution_count": null,
      "outputs": []
    },
    {
      "cell_type": "code",
      "metadata": {
        "id": "4AFRMthx5H0x",
        "colab_type": "code",
        "colab": {}
      },
      "source": [
        "b[[0, 2, -1]]"
      ],
      "execution_count": null,
      "outputs": []
    },
    {
      "cell_type": "code",
      "metadata": {
        "id": "2YGCR1ru82YJ",
        "colab_type": "code",
        "colab": {}
      },
      "source": [
        "a.dtype"
      ],
      "execution_count": null,
      "outputs": []
    },
    {
      "cell_type": "code",
      "metadata": {
        "id": "KogSWPGU87pg",
        "colab_type": "code",
        "colab": {}
      },
      "source": [
        "b.dtype"
      ],
      "execution_count": null,
      "outputs": []
    },
    {
      "cell_type": "code",
      "metadata": {
        "id": "tSVpPL039WCe",
        "colab_type": "code",
        "colab": {}
      },
      "source": [
        "A = np.array([\n",
        "  [1,2,3], [4,5,6]            \n",
        "])"
      ],
      "execution_count": null,
      "outputs": []
    }
  ]
}