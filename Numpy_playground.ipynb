{
  "nbformat": 4,
  "nbformat_minor": 0,
  "metadata": {
    "colab": {
      "name": "Numpy playground.ipynb",
      "provenance": [],
      "authorship_tag": "ABX9TyOHUPkqGjndP3QZsiMAsqTp",
      "include_colab_link": true
    },
    "kernelspec": {
      "name": "python3",
      "display_name": "Python 3"
    }
  },
  "cells": [
    {
      "cell_type": "markdown",
      "metadata": {
        "id": "view-in-github",
        "colab_type": "text"
      },
      "source": [
        "<a href=\"https://colab.research.google.com/github/raphaellins/ai-playground/blob/master/Numpy_playground.ipynb\" target=\"_parent\"><img src=\"https://colab.research.google.com/assets/colab-badge.svg\" alt=\"Open In Colab\"/></a>"
      ]
    },
    {
      "cell_type": "code",
      "metadata": {
        "id": "tYe8b2VicDnh",
        "colab_type": "code",
        "colab": {}
      },
      "source": [
        "import numpy as np"
      ],
      "execution_count": 1,
      "outputs": []
    },
    {
      "cell_type": "code",
      "metadata": {
        "id": "svIcPaWYegU8",
        "colab_type": "code",
        "colab": {}
      },
      "source": [
        "a = np.array([1,2,3], dtype='int16')\n",
        "b = np.array([[9.0, 8.0,7.0], [6.0, 5.0, 4.0]])"
      ],
      "execution_count": 9,
      "outputs": []
    },
    {
      "cell_type": "code",
      "metadata": {
        "id": "NzsAuJAGe-et",
        "colab_type": "code",
        "colab": {}
      },
      "source": [
        "b.ndim\n",
        "a.shape\n",
        "a.dtype\n",
        "a.itemsize"
      ],
      "execution_count": null,
      "outputs": []
    },
    {
      "cell_type": "code",
      "metadata": {
        "id": "6xH02ywHev8w",
        "colab_type": "code",
        "colab": {}
      },
      "source": [
        "anotherArr = np.array([[1,2,3,4,5,6,7], [8,9,10,11,12,13,14]])\n",
        "anotherArr[1, 5]\n",
        "# anotherArr[1, -2]"
      ],
      "execution_count": null,
      "outputs": []
    },
    {
      "cell_type": "code",
      "metadata": {
        "id": "y_tQiTWBgBoe",
        "colab_type": "code",
        "colab": {}
      },
      "source": [
        "anotherArr[0, :]\n",
        "anotherArr[:, 2]"
      ],
      "execution_count": null,
      "outputs": []
    },
    {
      "cell_type": "code",
      "metadata": {
        "id": "9mGUUm7egOLZ",
        "colab_type": "code",
        "colab": {}
      },
      "source": [
        "anotherArr[0, 1:6:2]\n",
        "anotherArr[1,5] = 20"
      ],
      "execution_count": null,
      "outputs": []
    },
    {
      "cell_type": "code",
      "metadata": {
        "id": "h5RyjZrRglYz",
        "colab_type": "code",
        "colab": {}
      },
      "source": [
        "anotherArr[:, 2] = [1,2] \n"
      ],
      "execution_count": null,
      "outputs": []
    }
  ]
}