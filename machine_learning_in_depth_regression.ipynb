{
  "nbformat": 4,
  "nbformat_minor": 0,
  "metadata": {
    "colab": {
      "name": "machine_learning_in_depth_regression.ipynb",
      "provenance": [],
      "collapsed_sections": [],
      "authorship_tag": "ABX9TyNRmjv1K7RdmvS6xLkKOxEH",
      "include_colab_link": true
    },
    "kernelspec": {
      "name": "python3",
      "display_name": "Python 3"
    }
  },
  "cells": [
    {
      "cell_type": "markdown",
      "metadata": {
        "id": "view-in-github",
        "colab_type": "text"
      },
      "source": [
        "<a href=\"https://colab.research.google.com/github/raphaellins/ai-playground/blob/master/machine_learning_in_depth_regression.ipynb\" target=\"_parent\"><img src=\"https://colab.research.google.com/assets/colab-badge.svg\" alt=\"Open In Colab\"/></a>"
      ]
    },
    {
      "cell_type": "code",
      "metadata": {
        "id": "xasq665fPRnH"
      },
      "source": [
        "!pip install quandl\n",
        "import pandas as pd\n",
        "import quandl, math, datetime\n",
        "import numpy as np\n",
        "from sklearn import preprocessing, model_selection, svm\n",
        "from sklearn.linear_model import LinearRegression\n",
        "import matplotlin.pyplot as plt\n",
        "from matplotlib import style\n",
        "style.use('ggplot')"
      ],
      "execution_count": null,
      "outputs": []
    },
    {
      "cell_type": "code",
      "metadata": {
        "id": "JEtDgHVbP_st"
      },
      "source": [
        "df = quandl.get('WIKI/GOOGL')"
      ],
      "execution_count": 10,
      "outputs": []
    },
    {
      "cell_type": "code",
      "metadata": {
        "id": "2LzPjS1DRLC1"
      },
      "source": [
        "df = df[['Adj. Open','Adj. High', 'Adj. Low', 'Adj. Close', 'Adj. Volume']]"
      ],
      "execution_count": 11,
      "outputs": []
    },
    {
      "cell_type": "code",
      "metadata": {
        "id": "HNWGIpW9Rdc6"
      },
      "source": [
        "df['HL_PCT'] = (df['Adj. High'] - df['Adj. Close']) / df['Adj. Close'] * 100.0\n",
        "df['PCT_change'] = (df['Adj. Close'] - df['Adj. Open']) / df['Adj. Open'] * 100.0"
      ],
      "execution_count": 12,
      "outputs": []
    },
    {
      "cell_type": "code",
      "metadata": {
        "id": "LJhuo63gSjN3"
      },
      "source": [
        "df = df[['Adj. Close','HL_PCT','PCT_change','Adj. Volume']]"
      ],
      "execution_count": 13,
      "outputs": []
    },
    {
      "cell_type": "code",
      "metadata": {
        "id": "EyfYuYHgSuaj"
      },
      "source": [
        "forecast_col = 'Adj. Close'\n",
        "df.fillna(-99999, inplace=True)\n",
        "forecast_out = int(math.ceil(0.01*len(df)))"
      ],
      "execution_count": 18,
      "outputs": []
    },
    {
      "cell_type": "code",
      "metadata": {
        "id": "50txwyjmUPdD"
      },
      "source": [
        "df['label'] = df[forecast_col].shift(-forecast_out)\n",
        "df.dropna(inplace=True)"
      ],
      "execution_count": 34,
      "outputs": []
    },
    {
      "cell_type": "code",
      "metadata": {
        "id": "m5mozs4dU-UO"
      },
      "source": [
        "X = np.array(df.drop(['label'], 1))\n",
        "y = np.array(df['label'])"
      ],
      "execution_count": 35,
      "outputs": []
    },
    {
      "cell_type": "code",
      "metadata": {
        "id": "GdnYfoaRWYRv"
      },
      "source": [
        "X = preprocessing.scale(X)\n",
        "# X = X[:-forecast_out+1]\n",
        "# df.dropna(inplace=True)\n",
        "y = np.array(df['label'])"
      ],
      "execution_count": 36,
      "outputs": []
    },
    {
      "cell_type": "code",
      "metadata": {
        "id": "np17p7tqXMh3"
      },
      "source": [
        "print(len(X), len(y))"
      ],
      "execution_count": null,
      "outputs": []
    },
    {
      "cell_type": "code",
      "metadata": {
        "id": "tNCLYi9FXXmb"
      },
      "source": [
        "X_train, X_test, y_train, y_test = model_selection.train_test_split(X, y, test_size=0.2)"
      ],
      "execution_count": 38,
      "outputs": []
    },
    {
      "cell_type": "code",
      "metadata": {
        "id": "Mi7FGdZaXmnm"
      },
      "source": [
        "clf = LinearRegression()\n",
        "# clf = svm.SVR(kernel='poly') \n",
        "clf.fit(X_train, y_train)"
      ],
      "execution_count": null,
      "outputs": []
    },
    {
      "cell_type": "code",
      "metadata": {
        "id": "GDcmFpABXu9d"
      },
      "source": [
        "accuracy = clf.score(X_test, y_test)"
      ],
      "execution_count": 40,
      "outputs": []
    },
    {
      "cell_type": "code",
      "metadata": {
        "id": "4f7PiRpiYNHo"
      },
      "source": [
        "forecast_set = clf.predict(X_lately) #WIP - DO NO RUN THIS"
      ],
      "execution_count": null,
      "outputs": []
    },
    {
      "cell_type": "code",
      "metadata": {
        "id": "mG2xScFwbRoR"
      },
      "source": [
        "df['FORECAST'] = np.nan"
      ],
      "execution_count": null,
      "outputs": []
    },
    {
      "cell_type": "code",
      "metadata": {
        "id": "gKiEg7ZabWyX"
      },
      "source": [
        "last_date = df.iloc[-1].name\n",
        "last_unit = last_date.timestamp()\n",
        "one_day = 86400\n",
        "next_unix = last_unix + one_day"
      ],
      "execution_count": null,
      "outputs": []
    },
    {
      "cell_type": "code",
      "metadata": {
        "id": "Pa3qpMXjbtGR"
      },
      "source": [
        "for i in forecast_set:\n",
        "  next_date = datetime.datetime.fromtimestamp(next_unix)\n",
        "  next_unix += one_day\n",
        "  df.loc[next_date] = [np.nan for _ in range (len(df.columns) - 1)] + [i]"
      ],
      "execution_count": null,
      "outputs": []
    },
    {
      "cell_type": "code",
      "metadata": {
        "id": "0dvfRwh7cCVN"
      },
      "source": [
        "df['Adj. Close'].plot()\n",
        "df['Forecast'].plot()\n",
        "plt.legend(loc=4)\n",
        "plt.xlabel('Date')\n",
        "plt.ylabel('Price')\n",
        "plt.show()"
      ],
      "execution_count": null,
      "outputs": []
    }
  ]
}