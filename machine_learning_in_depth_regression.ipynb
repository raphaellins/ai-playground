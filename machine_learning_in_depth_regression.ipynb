{
  "nbformat": 4,
  "nbformat_minor": 0,
  "metadata": {
    "colab": {
      "name": "machine_learning_in_depth_regression.ipynb",
      "provenance": [],
      "collapsed_sections": [],
      "authorship_tag": "ABX9TyNtvzJWZX31/o/1aLe/wDML",
      "include_colab_link": true
    },
    "kernelspec": {
      "name": "python3",
      "display_name": "Python 3"
    }
  },
  "cells": [
    {
      "cell_type": "markdown",
      "metadata": {
        "id": "view-in-github",
        "colab_type": "text"
      },
      "source": [
        "<a href=\"https://colab.research.google.com/github/raphaellins/ai-playground/blob/master/machine_learning_in_depth_regression.ipynb\" target=\"_parent\"><img src=\"https://colab.research.google.com/assets/colab-badge.svg\" alt=\"Open In Colab\"/></a>"
      ]
    },
    {
      "cell_type": "code",
      "metadata": {
        "id": "xasq665fPRnH"
      },
      "source": [
        "!pip install quandl\n",
        "import pandas as pd\n",
        "import quandl, math\n",
        "import numpy as np\n",
        "from sklearn import preprocessing, model_selection, svm\n",
        "from sklearn.linear_model import LinearRegression"
      ],
      "execution_count": null,
      "outputs": []
    },
    {
      "cell_type": "code",
      "metadata": {
        "id": "JEtDgHVbP_st"
      },
      "source": [
        "df = quandl.get('WIKI/GOOGL')"
      ],
      "execution_count": 10,
      "outputs": []
    },
    {
      "cell_type": "code",
      "metadata": {
        "id": "2LzPjS1DRLC1"
      },
      "source": [
        "df = df[['Adj. Open','Adj. High', 'Adj. Low', 'Adj. Close', 'Adj. Volume']]"
      ],
      "execution_count": 11,
      "outputs": []
    },
    {
      "cell_type": "code",
      "metadata": {
        "id": "HNWGIpW9Rdc6"
      },
      "source": [
        "df['HL_PCT'] = (df['Adj. High'] - df['Adj. Close']) / df['Adj. Close'] * 100.0\n",
        "df['PCT_change'] = (df['Adj. Close'] - df['Adj. Open']) / df['Adj. Open'] * 100.0"
      ],
      "execution_count": 12,
      "outputs": []
    },
    {
      "cell_type": "code",
      "metadata": {
        "id": "LJhuo63gSjN3"
      },
      "source": [
        "df = df[['Adj. Close','HL_PCT','PCT_change','Adj. Volume']]"
      ],
      "execution_count": 13,
      "outputs": []
    },
    {
      "cell_type": "code",
      "metadata": {
        "id": "EyfYuYHgSuaj"
      },
      "source": [
        "forecast_col = 'Adj. Close'\n",
        "df.fillna(-99999, inplace=True)\n",
        "forecast_out = int(math.ceil(0.01*len(df)))"
      ],
      "execution_count": 18,
      "outputs": []
    },
    {
      "cell_type": "code",
      "metadata": {
        "id": "50txwyjmUPdD"
      },
      "source": [
        "df['label'] = df[forecast_col].shift(-forecast_out)\n",
        "df.dropna(inplace=True)"
      ],
      "execution_count": 34,
      "outputs": []
    },
    {
      "cell_type": "code",
      "metadata": {
        "id": "m5mozs4dU-UO"
      },
      "source": [
        "X = np.array(df.drop(['label'], 1))\n",
        "y = np.array(df['label'])"
      ],
      "execution_count": 35,
      "outputs": []
    },
    {
      "cell_type": "code",
      "metadata": {
        "id": "GdnYfoaRWYRv"
      },
      "source": [
        "X = preprocessing.scale(X)\n",
        "# X = X[:-forecast_out+1]\n",
        "# df.dropna(inplace=True)\n",
        "y = np.array(df['label'])"
      ],
      "execution_count": 36,
      "outputs": []
    },
    {
      "cell_type": "code",
      "metadata": {
        "id": "np17p7tqXMh3"
      },
      "source": [
        "print(len(X), len(y))"
      ],
      "execution_count": null,
      "outputs": []
    },
    {
      "cell_type": "code",
      "metadata": {
        "id": "tNCLYi9FXXmb"
      },
      "source": [
        "X_train, X_test, y_train, y_test = model_selection.train_test_split(X, y, test_size=0.2)"
      ],
      "execution_count": 38,
      "outputs": []
    },
    {
      "cell_type": "code",
      "metadata": {
        "id": "Mi7FGdZaXmnm"
      },
      "source": [
        "clf = LinearRegression()\n",
        "# clf = svm.SVR(kernel='poly') \n",
        "clf.fit(X_train, y_train)"
      ],
      "execution_count": null,
      "outputs": []
    },
    {
      "cell_type": "code",
      "metadata": {
        "id": "GDcmFpABXu9d"
      },
      "source": [
        "accuracy = clf.score(X_test, y_test)"
      ],
      "execution_count": 40,
      "outputs": []
    },
    {
      "cell_type": "code",
      "metadata": {
        "id": "4f7PiRpiYNHo"
      },
      "source": [
        ""
      ],
      "execution_count": null,
      "outputs": []
    }
  ]
}