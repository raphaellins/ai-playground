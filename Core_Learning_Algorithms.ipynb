{
  "nbformat": 4,
  "nbformat_minor": 0,
  "metadata": {
    "colab": {
      "name": "Core Learning Algorithms.ipynb",
      "provenance": [],
      "authorship_tag": "ABX9TyPcZWiEhItBWNJYNi10Ukto",
      "include_colab_link": true
    },
    "kernelspec": {
      "name": "python3",
      "display_name": "Python 3"
    }
  },
  "cells": [
    {
      "cell_type": "markdown",
      "metadata": {
        "id": "view-in-github",
        "colab_type": "text"
      },
      "source": [
        "<a href=\"https://colab.research.google.com/github/raphaellins/ai-playground/blob/master/Core_Learning_Algorithms.ipynb\" target=\"_parent\"><img src=\"https://colab.research.google.com/assets/colab-badge.svg\" alt=\"Open In Colab\"/></a>"
      ]
    },
    {
      "cell_type": "code",
      "metadata": {
        "id": "lRVLDP3Ya45c",
        "colab_type": "code",
        "colab": {}
      },
      "source": [
        "%tensorflow_version 2.x\n",
        "import tensorflow as tf\n",
        "import pandas as pd\n"
      ],
      "execution_count": 4,
      "outputs": []
    },
    {
      "cell_type": "code",
      "metadata": {
        "id": "l7Kl7BZjbGtJ",
        "colab_type": "code",
        "colab": {}
      },
      "source": [
        "CSV_COLUMN_NAMES = ['SepalLength','SepalWidth','PetalWidth', 'Species' ]\n",
        "SPECIES = ['Setosa', 'Versicolor', 'Virginica']"
      ],
      "execution_count": 3,
      "outputs": []
    },
    {
      "cell_type": "code",
      "metadata": {
        "id": "HU3_WXOybZnz",
        "colab_type": "code",
        "colab": {}
      },
      "source": [
        "train_path = tf.keras.utils.get_file(\"iris_training.csv\", \"https://storage.googleapis.com/download.tensorflow.org/data/iris_training.csv\")\n",
        "test_path = tf.keras.utils.get_file(\"iris_test.csv\", \"https://storage.googleapis.com/download.tensorflow.org/data/iris_test.csv\")"
      ],
      "execution_count": 6,
      "outputs": []
    },
    {
      "cell_type": "code",
      "metadata": {
        "id": "ZgD4wTvlb1vo",
        "colab_type": "code",
        "colab": {}
      },
      "source": [
        "train = pd.read_csv(train_path, names=CSV_COLUMN_NAMES, header=0)\n",
        "test = pd.read_csv(test_path, names=CSV_COLUMN_NAMES, header=0)"
      ],
      "execution_count": 7,
      "outputs": []
    },
    {
      "cell_type": "code",
      "metadata": {
        "id": "UcJ36y5QcKRo",
        "colab_type": "code",
        "colab": {}
      },
      "source": [
        "train.head()"
      ],
      "execution_count": null,
      "outputs": []
    },
    {
      "cell_type": "code",
      "metadata": {
        "id": "PNpAwmF-coxj",
        "colab_type": "code",
        "colab": {}
      },
      "source": [
        "train_y = train.pop('Species')\n",
        "test_y = test.pop('Species')\n",
        "train.head()"
      ],
      "execution_count": null,
      "outputs": []
    },
    {
      "cell_type": "code",
      "metadata": {
        "id": "2LLWPI48czq3",
        "colab_type": "code",
        "colab": {
          "base_uri": "https://localhost:8080/",
          "height": 1000
        },
        "outputId": "71092e1a-5938-4cb8-844b-438db7c2d12f"
      },
      "source": [
        "def input_fn(features, labels, training=True, batch_size=256):\n",
        "  dataset = tf.data.Dataset.from_tensor_slices((dict(features), labels))\n",
        "\n",
        "  if training:\n",
        "    dataset = dataset.shuffle(1000).repeat()\n",
        "  \n",
        "  return dataset.batch(batch_size)\n",
        "\n",
        "my_feature_columns = []\n",
        "for key in train.keys():\n",
        "  my_feature_columns.append(tf.feature_column.numeric_column(key=key))\n",
        "\n",
        "\n",
        "classifier = tf.estimator.DNNClassifier(\n",
        "    feature_columns=my_feature_columns,\n",
        "    hidden_units=[30,10],\n",
        "    n_classes=3\n",
        ")\n",
        "\n",
        "classifier.train(input_fn=lambda: input_fn(train, train_y, training=True), steps=5000)"
      ],
      "execution_count": 11,
      "outputs": [
        {
          "output_type": "stream",
          "text": [
            "INFO:tensorflow:Using default config.\n",
            "WARNING:tensorflow:Using temporary folder as model directory: /tmp/tmpacxiym4m\n",
            "INFO:tensorflow:Using config: {'_model_dir': '/tmp/tmpacxiym4m', '_tf_random_seed': None, '_save_summary_steps': 100, '_save_checkpoints_steps': None, '_save_checkpoints_secs': 600, '_session_config': allow_soft_placement: true\n",
            "graph_options {\n",
            "  rewrite_options {\n",
            "    meta_optimizer_iterations: ONE\n",
            "  }\n",
            "}\n",
            ", '_keep_checkpoint_max': 5, '_keep_checkpoint_every_n_hours': 10000, '_log_step_count_steps': 100, '_train_distribute': None, '_device_fn': None, '_protocol': None, '_eval_distribute': None, '_experimental_distribute': None, '_experimental_max_worker_delay_secs': None, '_session_creation_timeout_secs': 7200, '_service': None, '_cluster_spec': ClusterSpec({}), '_task_type': 'worker', '_task_id': 0, '_global_id_in_cluster': 0, '_master': '', '_evaluation_master': '', '_is_chief': True, '_num_ps_replicas': 0, '_num_worker_replicas': 1}\n",
            "WARNING:tensorflow:From /usr/local/lib/python3.6/dist-packages/tensorflow/python/training/training_util.py:236: Variable.initialized_value (from tensorflow.python.ops.variables) is deprecated and will be removed in a future version.\n",
            "Instructions for updating:\n",
            "Use Variable.read_value. Variables in 2.X are initialized automatically both in eager and graph (inside tf.defun) contexts.\n",
            "INFO:tensorflow:Calling model_fn.\n",
            "WARNING:tensorflow:Layer dnn is casting an input tensor from dtype float64 to the layer's dtype of float32, which is new behavior in TensorFlow 2.  The layer has dtype float32 because its dtype defaults to floatx.\n",
            "\n",
            "If you intended to run this layer in float32, you can safely ignore this warning. If in doubt, this warning is likely only an issue if you are porting a TensorFlow 1.X model to TensorFlow 2.\n",
            "\n",
            "To change all layers to have dtype float64 by default, call `tf.keras.backend.set_floatx('float64')`. To change just this layer, pass dtype='float64' to the layer constructor. If you are the author of this layer, you can disable autocasting by passing autocast=False to the base Layer constructor.\n",
            "\n",
            "WARNING:tensorflow:From /usr/local/lib/python3.6/dist-packages/tensorflow/python/keras/optimizer_v2/adagrad.py:83: calling Constant.__init__ (from tensorflow.python.ops.init_ops) with dtype is deprecated and will be removed in a future version.\n",
            "Instructions for updating:\n",
            "Call initializer instance with the dtype argument instead of passing it to the constructor\n",
            "INFO:tensorflow:Done calling model_fn.\n",
            "INFO:tensorflow:Create CheckpointSaverHook.\n",
            "INFO:tensorflow:Graph was finalized.\n",
            "INFO:tensorflow:Running local_init_op.\n",
            "INFO:tensorflow:Done running local_init_op.\n",
            "INFO:tensorflow:Calling checkpoint listeners before saving checkpoint 0...\n",
            "INFO:tensorflow:Saving checkpoints for 0 into /tmp/tmpacxiym4m/model.ckpt.\n",
            "INFO:tensorflow:Calling checkpoint listeners after saving checkpoint 0...\n",
            "INFO:tensorflow:loss = 1.3322206, step = 0\n",
            "INFO:tensorflow:global_step/sec: 526.528\n",
            "INFO:tensorflow:loss = 1.013339, step = 100 (0.194 sec)\n",
            "INFO:tensorflow:global_step/sec: 651.233\n",
            "INFO:tensorflow:loss = 0.93929076, step = 200 (0.152 sec)\n",
            "INFO:tensorflow:global_step/sec: 628.833\n",
            "INFO:tensorflow:loss = 0.89584637, step = 300 (0.158 sec)\n",
            "INFO:tensorflow:global_step/sec: 622.76\n",
            "INFO:tensorflow:loss = 0.8595013, step = 400 (0.163 sec)\n",
            "INFO:tensorflow:global_step/sec: 635.851\n",
            "INFO:tensorflow:loss = 0.8268974, step = 500 (0.155 sec)\n",
            "INFO:tensorflow:global_step/sec: 651.529\n",
            "INFO:tensorflow:loss = 0.8056919, step = 600 (0.156 sec)\n",
            "INFO:tensorflow:global_step/sec: 650.249\n",
            "INFO:tensorflow:loss = 0.77569366, step = 700 (0.152 sec)\n",
            "INFO:tensorflow:global_step/sec: 629.53\n",
            "INFO:tensorflow:loss = 0.7589251, step = 800 (0.159 sec)\n",
            "INFO:tensorflow:global_step/sec: 535.692\n",
            "INFO:tensorflow:loss = 0.7435913, step = 900 (0.190 sec)\n",
            "INFO:tensorflow:global_step/sec: 607.472\n",
            "INFO:tensorflow:loss = 0.7194387, step = 1000 (0.160 sec)\n",
            "INFO:tensorflow:global_step/sec: 653.187\n",
            "INFO:tensorflow:loss = 0.7066821, step = 1100 (0.153 sec)\n",
            "INFO:tensorflow:global_step/sec: 645.144\n",
            "INFO:tensorflow:loss = 0.70005083, step = 1200 (0.156 sec)\n",
            "INFO:tensorflow:global_step/sec: 665.841\n",
            "INFO:tensorflow:loss = 0.68667454, step = 1300 (0.152 sec)\n",
            "INFO:tensorflow:global_step/sec: 657.833\n",
            "INFO:tensorflow:loss = 0.6811087, step = 1400 (0.150 sec)\n",
            "INFO:tensorflow:global_step/sec: 654.048\n",
            "INFO:tensorflow:loss = 0.6683037, step = 1500 (0.153 sec)\n",
            "INFO:tensorflow:global_step/sec: 649.124\n",
            "INFO:tensorflow:loss = 0.65643185, step = 1600 (0.157 sec)\n",
            "INFO:tensorflow:global_step/sec: 669.619\n",
            "INFO:tensorflow:loss = 0.6419599, step = 1700 (0.147 sec)\n",
            "INFO:tensorflow:global_step/sec: 658.925\n",
            "INFO:tensorflow:loss = 0.6423546, step = 1800 (0.153 sec)\n",
            "INFO:tensorflow:global_step/sec: 640.641\n",
            "INFO:tensorflow:loss = 0.6349548, step = 1900 (0.157 sec)\n",
            "INFO:tensorflow:global_step/sec: 656.445\n",
            "INFO:tensorflow:loss = 0.6231836, step = 2000 (0.152 sec)\n",
            "INFO:tensorflow:global_step/sec: 681.115\n",
            "INFO:tensorflow:loss = 0.61550117, step = 2100 (0.145 sec)\n",
            "INFO:tensorflow:global_step/sec: 634.165\n",
            "INFO:tensorflow:loss = 0.6177598, step = 2200 (0.158 sec)\n",
            "INFO:tensorflow:global_step/sec: 666.359\n",
            "INFO:tensorflow:loss = 0.60387146, step = 2300 (0.152 sec)\n",
            "INFO:tensorflow:global_step/sec: 671.354\n",
            "INFO:tensorflow:loss = 0.5924992, step = 2400 (0.149 sec)\n",
            "INFO:tensorflow:global_step/sec: 667.166\n",
            "INFO:tensorflow:loss = 0.6095253, step = 2500 (0.150 sec)\n",
            "INFO:tensorflow:global_step/sec: 651.781\n",
            "INFO:tensorflow:loss = 0.59476113, step = 2600 (0.153 sec)\n",
            "INFO:tensorflow:global_step/sec: 682.174\n",
            "INFO:tensorflow:loss = 0.57881135, step = 2700 (0.147 sec)\n",
            "INFO:tensorflow:global_step/sec: 642.47\n",
            "INFO:tensorflow:loss = 0.5671351, step = 2800 (0.156 sec)\n",
            "INFO:tensorflow:global_step/sec: 650.898\n",
            "INFO:tensorflow:loss = 0.57730454, step = 2900 (0.154 sec)\n",
            "INFO:tensorflow:global_step/sec: 602.325\n",
            "INFO:tensorflow:loss = 0.56406546, step = 3000 (0.164 sec)\n",
            "INFO:tensorflow:global_step/sec: 664.607\n",
            "INFO:tensorflow:loss = 0.5534251, step = 3100 (0.152 sec)\n",
            "INFO:tensorflow:global_step/sec: 660.724\n",
            "INFO:tensorflow:loss = 0.54607785, step = 3200 (0.152 sec)\n",
            "INFO:tensorflow:global_step/sec: 681.307\n",
            "INFO:tensorflow:loss = 0.5547947, step = 3300 (0.145 sec)\n",
            "INFO:tensorflow:global_step/sec: 663.554\n",
            "INFO:tensorflow:loss = 0.53823394, step = 3400 (0.153 sec)\n",
            "INFO:tensorflow:global_step/sec: 670.978\n",
            "INFO:tensorflow:loss = 0.54179204, step = 3500 (0.146 sec)\n",
            "INFO:tensorflow:global_step/sec: 657.922\n",
            "INFO:tensorflow:loss = 0.5402805, step = 3600 (0.154 sec)\n",
            "INFO:tensorflow:global_step/sec: 684.199\n",
            "INFO:tensorflow:loss = 0.53253496, step = 3700 (0.144 sec)\n",
            "INFO:tensorflow:global_step/sec: 645.152\n",
            "INFO:tensorflow:loss = 0.535736, step = 3800 (0.155 sec)\n",
            "INFO:tensorflow:global_step/sec: 665.418\n",
            "INFO:tensorflow:loss = 0.5261563, step = 3900 (0.153 sec)\n",
            "INFO:tensorflow:global_step/sec: 651.274\n",
            "INFO:tensorflow:loss = 0.5197235, step = 4000 (0.151 sec)\n",
            "INFO:tensorflow:global_step/sec: 687.723\n",
            "INFO:tensorflow:loss = 0.52789116, step = 4100 (0.148 sec)\n",
            "INFO:tensorflow:global_step/sec: 596.511\n",
            "INFO:tensorflow:loss = 0.5229006, step = 4200 (0.165 sec)\n",
            "INFO:tensorflow:global_step/sec: 610.595\n",
            "INFO:tensorflow:loss = 0.5164692, step = 4300 (0.166 sec)\n",
            "INFO:tensorflow:global_step/sec: 660.939\n",
            "INFO:tensorflow:loss = 0.52903235, step = 4400 (0.149 sec)\n",
            "INFO:tensorflow:global_step/sec: 683.456\n",
            "INFO:tensorflow:loss = 0.5162817, step = 4500 (0.148 sec)\n",
            "INFO:tensorflow:global_step/sec: 641.73\n",
            "INFO:tensorflow:loss = 0.5029134, step = 4600 (0.156 sec)\n",
            "INFO:tensorflow:global_step/sec: 671.162\n",
            "INFO:tensorflow:loss = 0.48898542, step = 4700 (0.149 sec)\n",
            "INFO:tensorflow:global_step/sec: 630.235\n",
            "INFO:tensorflow:loss = 0.5113927, step = 4800 (0.157 sec)\n",
            "INFO:tensorflow:global_step/sec: 653.336\n",
            "INFO:tensorflow:loss = 0.49716094, step = 4900 (0.154 sec)\n",
            "INFO:tensorflow:Calling checkpoint listeners before saving checkpoint 5000...\n",
            "INFO:tensorflow:Saving checkpoints for 5000 into /tmp/tmpacxiym4m/model.ckpt.\n",
            "INFO:tensorflow:Calling checkpoint listeners after saving checkpoint 5000...\n",
            "INFO:tensorflow:Loss for final step: 0.4825259.\n"
          ],
          "name": "stdout"
        },
        {
          "output_type": "execute_result",
          "data": {
            "text/plain": [
              "<tensorflow_estimator.python.estimator.canned.dnn.DNNClassifierV2 at 0x7fa8ea9f5d68>"
            ]
          },
          "metadata": {
            "tags": []
          },
          "execution_count": 11
        }
      ]
    }
  ]
}