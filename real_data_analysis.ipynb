{
  "nbformat": 4,
  "nbformat_minor": 0,
  "metadata": {
    "colab": {
      "name": "real_data_analysis.ipynb",
      "provenance": [],
      "authorship_tag": "ABX9TyPhflWTlksqYrcwthRQHS80",
      "include_colab_link": true
    },
    "kernelspec": {
      "name": "python3",
      "display_name": "Python 3"
    }
  },
  "cells": [
    {
      "cell_type": "markdown",
      "metadata": {
        "id": "view-in-github",
        "colab_type": "text"
      },
      "source": [
        "<a href=\"https://colab.research.google.com/github/raphaellins/ai-playground/blob/master/real_data_analysis.ipynb\" target=\"_parent\"><img src=\"https://colab.research.google.com/assets/colab-badge.svg\" alt=\"Open In Colab\"/></a>"
      ]
    },
    {
      "cell_type": "code",
      "metadata": {
        "id": "aka5lzwxY3UM",
        "colab_type": "code",
        "colab": {}
      },
      "source": [
        "# https://www.youtube.com/redirect?redir_token=QUFFLUhqa2JPc2R0cU11Zkgta1lsQ0dmSlVfbFhDaUJiUXxBQ3Jtc0tuQ0dvOGxRRVQ4SUw5Qjg4TGFBQTVRc2pPS3NnRmFRQlV0cVRhc2ltUUtPT0Q4WmRHcnFvNzl2Y1k1N1lRR3NvcnBCUlFMMFcxWjRtXzJYMHNYSE8xSUFPbXhzb01qREt3UlZEVVNZV0lxQTRGQUJydw%3D%3D&q=https%3A%2F%2Fgithub.com%2FKeithGalli%2FPandas-Data-Science-Tasks&v=eMOA1pPVUc4&event=video_description\n",
        "import pandas as pd\n",
        "import os"
      ],
      "execution_count": 1,
      "outputs": []
    },
    {
      "cell_type": "code",
      "metadata": {
        "id": "pYS_lCgUZQyZ",
        "colab_type": "code",
        "colab": {}
      },
      "source": [
        "### Mergin 12 months of sales data into a single file\n",
        "files = [file for file in os.listdir('./Sales_Data')]\n",
        "\n",
        "all_months_data = pd.DataFrame()\n",
        "\n",
        "for file in files:\n",
        "  pd .read_csv(\"./Sales_Data/\"+file)\n",
        "  all_months_data = pd.concat([all_months_data, df])\n",
        "\n",
        "all_months_data.to_csv(\"all_data.csv\", index=False);\n"
      ],
      "execution_count": null,
      "outputs": []
    },
    {
      "cell_type": "code",
      "metadata": {
        "id": "ZoE47ctSa88h",
        "colab_type": "code",
        "colab": {}
      },
      "source": [
        "all_data = pd.read_csv(\"all_data.csv\")\n",
        "all_data.head()"
      ],
      "execution_count": null,
      "outputs": []
    },
    {
      "cell_type": "code",
      "metadata": {
        "id": "Vgp23yGYcOcr",
        "colab_type": "code",
        "colab": {}
      },
      "source": [
        "all_data.head(100)\n",
        "nan_df = all_data[all_data.isna().any(axis=1)]\n",
        "\n",
        "all_data = all_data.dropna(how= 'all')"
      ],
      "execution_count": null,
      "outputs": []
    },
    {
      "cell_type": "code",
      "metadata": {
        "id": "F0307fttdkAF",
        "colab_type": "code",
        "colab": {}
      },
      "source": [
        "all_data = all_data[all_data['Order Date'].srt[0:2] != 'Or']"
      ],
      "execution_count": null,
      "outputs": []
    },
    {
      "cell_type": "code",
      "metadata": {
        "id": "LQ6phUOCelUm",
        "colab_type": "code",
        "colab": {}
      },
      "source": [
        "all_data['Quantity Ordered'] = pd.to_numeric(all_data[ 'Quantity Ordered'])\n",
        "all_data[ 'Price Each'] = pd.to_numeric(all_data[ 'Price Each'])"
      ],
      "execution_count": null,
      "outputs": []
    },
    {
      "cell_type": "code",
      "metadata": {
        "id": "XMX5aexffHUI",
        "colab_type": "code",
        "colab": {}
      },
      "source": [
        ""
      ],
      "execution_count": null,
      "outputs": []
    },
    {
      "cell_type": "code",
      "metadata": {
        "id": "0ppXK-FqbTZL",
        "colab_type": "code",
        "colab": {}
      },
      "source": [
        "all_data[\"Month\"] = all_data['Order Date'].str[0:2]\n",
        "all_data['Month'] = all_data['Month'].astype('int32')"
      ],
      "execution_count": null,
      "outputs": []
    },
    {
      "cell_type": "code",
      "metadata": {
        "id": "K1bqiq1YeRT_",
        "colab_type": "code",
        "colab": {}
      },
      "source": [
        "all_data['Sales'] = all_data['Quantity Ordered'] * ['Price each']\n"
      ],
      "execution_count": null,
      "outputs": []
    },
    {
      "cell_type": "code",
      "metadata": {
        "id": "2Alj99sUbJQh",
        "colab_type": "code",
        "colab": {}
      },
      "source": [
        "# What was the best month for sales? How much was earned that month?\n"
      ],
      "execution_count": null,
      "outputs": []
    }
  ]
}