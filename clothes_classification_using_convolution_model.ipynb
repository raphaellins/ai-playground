{
  "nbformat": 4,
  "nbformat_minor": 0,
  "metadata": {
    "colab": {
      "name": "clothes_classification_using_convolution_model.ipynb",
      "provenance": [],
      "mount_file_id": "1UpDwtv_lWEs94Qj5MOD_uwXIYLltgSok",
      "authorship_tag": "ABX9TyPg+BakH/yyicUn0o/t+j3R",
      "include_colab_link": true
    },
    "kernelspec": {
      "name": "python3",
      "display_name": "Python 3"
    }
  },
  "cells": [
    {
      "cell_type": "markdown",
      "metadata": {
        "id": "view-in-github",
        "colab_type": "text"
      },
      "source": [
        "<a href=\"https://colab.research.google.com/github/raphaellins/ai-playground/blob/master/clothes_classification_using_convolution_model.ipynb\" target=\"_parent\"><img src=\"https://colab.research.google.com/assets/colab-badge.svg\" alt=\"Open In Colab\"/></a>"
      ]
    },
    {
      "cell_type": "code",
      "metadata": {
        "id": "cbAgROBWasCO"
      },
      "source": [
        "%tensorflow_version 2.x\n",
        "import tensorflow as tf\n",
        "import pandas as pd\n",
        "import numpy as np\n",
        "import seaborn as sns\n",
        "import matplotlib.pyplot as plt"
      ],
      "execution_count": 1,
      "outputs": []
    },
    {
      "cell_type": "code",
      "metadata": {
        "id": "Wq-td7dva4Ll"
      },
      "source": [
        "fashion_train_df = pd.read_csv('/content/drive/MyDrive/machine_learning_practice/fashion-mnist-train.csv', sep=',')\n",
        "fashion_test_df = pd.read_csv('/content/drive/MyDrive/machine_learning_practice/fashion-mnist-test.csv', sep=',')"
      ],
      "execution_count": 2,
      "outputs": []
    },
    {
      "cell_type": "code",
      "metadata": {
        "id": "u67eNGDUeQWS"
      },
      "source": [
        "training = np.array(fashion_train_df, dtype='float32')\n",
        "testing = np.array(fashion_test_df, dtype='float32')"
      ],
      "execution_count": 3,
      "outputs": []
    },
    {
      "cell_type": "code",
      "metadata": {
        "id": "6cZPQe7od53s"
      },
      "source": [
        "X_train =  training[:, 1:] / 255\n",
        "y_train = training[:, 0]"
      ],
      "execution_count": 4,
      "outputs": []
    },
    {
      "cell_type": "code",
      "metadata": {
        "id": "a3M1VN-ggghT"
      },
      "source": [
        "X_test =  testing[:, 1:] / 255\n",
        "y_test = testing[:, 0]"
      ],
      "execution_count": 5,
      "outputs": []
    },
    {
      "cell_type": "code",
      "metadata": {
        "id": "f416KgOdgklx"
      },
      "source": [
        "X_train = X_train.reshape(X_train.shape[0], *(28, 28, 1))\n",
        "X_test = X_test.reshape(X_test.shape[0], *(28, 28, 1))"
      ],
      "execution_count": 7,
      "outputs": []
    },
    {
      "cell_type": "code",
      "metadata": {
        "id": "P9HY95s_hDZs"
      },
      "source": [
        "from tf.keras import layers, models\n",
        "cnn = models.Sequential()\n",
        "cnn.add(layers.Conv2D(32, (3, 3), activation = 'relu', input_shape=(28, 28, 1)))\n",
        "cnn.add(layers.MaxPooling2D(2, 2))\n",
        "\n",
        "cnn.add(layers.Conv2D(64, (3, 3), activation = 'relu'))\n",
        "cnn.add(layers.MaxPooling2D(2, 2))\n",
        "\n",
        "cnn.add(layers.Conv2D(64, (3, 3), activation = 'relu'))\n",
        "\n",
        "cnn.add(layers.Flatten())\n",
        "\n",
        "cnn.add(layers.Dense(64, activation='relu'))\n",
        "cnn.add(layers.Dense(10, activation = 'softmax'))\n",
        "\n",
        "cnn.summary()"
      ],
      "execution_count": null,
      "outputs": []
    },
    {
      "cell_type": "code",
      "metadata": {
        "id": "sMNEFMZMitWG"
      },
      "source": [
        "cnn.compile(loss = 'sparse_categorial_crossentropy', optimizer = 'Adam', metrics = ['accuracy'])"
      ],
      "execution_count": null,
      "outputs": []
    },
    {
      "cell_type": "code",
      "metadata": {
        "id": "iK1SCQTMi99l"
      },
      "source": [
        "epochs = 150\n",
        "history = cnn.fit(X_train, y_train, batch_size = 512, epochs = epochs)"
      ],
      "execution_count": null,
      "outputs": []
    },
    {
      "cell_type": "code",
      "metadata": {
        "id": "PqY8wEJojFsY"
      },
      "source": [
        "evaluation = cnn.evaluate(X_test, y_test)"
      ],
      "execution_count": null,
      "outputs": []
    }
  ]
}