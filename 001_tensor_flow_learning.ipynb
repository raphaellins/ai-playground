{
  "nbformat": 4,
  "nbformat_minor": 0,
  "metadata": {
    "colab": {
      "name": "001_tensor_flow_learning.ipynb",
      "provenance": [],
      "authorship_tag": "ABX9TyPAs4jm7NmOTQCSncAWAa17",
      "include_colab_link": true
    },
    "kernelspec": {
      "name": "python3",
      "display_name": "Python 3"
    }
  },
  "cells": [
    {
      "cell_type": "markdown",
      "metadata": {
        "id": "view-in-github",
        "colab_type": "text"
      },
      "source": [
        "<a href=\"https://colab.research.google.com/github/raphaellins/ai-playground/blob/master/001_tensor_flow_learning.ipynb\" target=\"_parent\"><img src=\"https://colab.research.google.com/assets/colab-badge.svg\" alt=\"Open In Colab\"/></a>"
      ]
    },
    {
      "cell_type": "code",
      "metadata": {
        "id": "7ZhRKlWpm6Gc",
        "colab_type": "code",
        "colab": {}
      },
      "source": [
        "%tensorflow_version 2.x\n",
        "import tensorflow as tf"
      ],
      "execution_count": null,
      "outputs": []
    },
    {
      "cell_type": "code",
      "metadata": {
        "id": "G08qoo1DrDG0",
        "colab_type": "code",
        "colab": {}
      },
      "source": [
        "value1 = tf.constant(2)\n",
        "value2 = tf.constant(3)"
      ],
      "execution_count": null,
      "outputs": []
    },
    {
      "cell_type": "code",
      "metadata": {
        "id": "4B2n2_porIXE",
        "colab_type": "code",
        "colab": {}
      },
      "source": [
        "type(value1)"
      ],
      "execution_count": null,
      "outputs": []
    },
    {
      "cell_type": "code",
      "metadata": {
        "id": "n3qQUqpzrKpU",
        "colab_type": "code",
        "colab": {}
      },
      "source": [
        "print(value1)"
      ],
      "execution_count": null,
      "outputs": []
    },
    {
      "cell_type": "code",
      "metadata": {
        "id": "1uw_Qf-8sA_O",
        "colab_type": "code",
        "colab": {}
      },
      "source": [
        "sum = tf.Variable(value1 + 5, name = 'Value1')\n",
        "init = tf.compat.v1.global_variables_initializer()"
      ],
      "execution_count": null,
      "outputs": []
    },
    {
      "cell_type": "code",
      "metadata": {
        "id": "svNTM321sJng",
        "colab_type": "code",
        "colab": {}
      },
      "source": [
        "sess = tf.compat.v1.Session()\n",
        "sess.run(init)\n",
        "sess.run(soma)\n",
        "sess.close()"
      ],
      "execution_count": null,
      "outputs": []
    },
    {
      "cell_type": "code",
      "metadata": {
        "id": "DnDmjydYvUYk",
        "colab_type": "code",
        "colab": {}
      },
      "source": [
        "vector =tf.constant([5, 10, 15], name = 'vector')\n",
        "type(vector)"
      ],
      "execution_count": null,
      "outputs": []
    },
    {
      "cell_type": "code",
      "metadata": {
        "id": "r8j7YzaqvcNT",
        "colab_type": "code",
        "colab": {}
      },
      "source": [
        "sum = tf.Variable(vector + 5, name = 'sum')\n",
        "init = tf.compat.v1.global_variables_initializer()"
      ],
      "execution_count": null,
      "outputs": []
    },
    {
      "cell_type": "code",
      "metadata": {
        "id": "xqMap8PAvyjg",
        "colab_type": "code",
        "colab": {}
      },
      "source": [
        "sess = tf.compat.v1.Session()\n",
        "\n",
        "with sess.as_default():\n",
        "  sess.run(init)\n",
        "  print(sess.run(sum))"
      ],
      "execution_count": null,
      "outputs": []
    },
    {
      "cell_type": "code",
      "metadata": {
        "id": "53L5yieJw1Mp",
        "colab_type": "code",
        "colab": {}
      },
      "source": [
        "a = tf.constant([9, 8, 7], name = 'a')\n",
        "b = tf.constant([1, 2, 3], name = 'b')\n",
        "\n",
        "sum = a + b "
      ],
      "execution_count": null,
      "outputs": []
    },
    {
      "cell_type": "code",
      "metadata": {
        "id": "H9y1JPOMxEtH",
        "colab_type": "code",
        "colab": {}
      },
      "source": [
        "a1 = tf.constant([[1,2,3], [4,5,6]], name ='a1')"
      ],
      "execution_count": null,
      "outputs": []
    }
  ]
}