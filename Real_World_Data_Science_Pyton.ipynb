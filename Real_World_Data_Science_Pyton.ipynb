{
  "nbformat": 4,
  "nbformat_minor": 0,
  "metadata": {
    "colab": {
      "name": "Real_World_Data_Science_Pyton.ipynb",
      "provenance": [],
      "collapsed_sections": [],
      "authorship_tag": "ABX9TyP8wpemYaXM8dXbUU4xTsvT",
      "include_colab_link": true
    },
    "kernelspec": {
      "name": "python3",
      "display_name": "Python 3"
    }
  },
  "cells": [
    {
      "cell_type": "markdown",
      "metadata": {
        "id": "view-in-github",
        "colab_type": "text"
      },
      "source": [
        "<a href=\"https://colab.research.google.com/github/raphaellins/ai-playground/blob/master/Real_World_Data_Science_Pyton.ipynb\" target=\"_parent\"><img src=\"https://colab.research.google.com/assets/colab-badge.svg\" alt=\"Open In Colab\"/></a>"
      ]
    },
    {
      "cell_type": "code",
      "metadata": {
        "id": "w7jZdiehXA7Y"
      },
      "source": [
        "from bs4 import BeautifulSoup as bs\n",
        "import requests"
      ],
      "execution_count": null,
      "outputs": []
    },
    {
      "cell_type": "code",
      "metadata": {
        "id": "12OkVAmBYZ_a"
      },
      "source": [
        "r = requests.get(\"https://en.wikipedia.org/wiki/Toy_Story_3\")\n",
        "\n",
        "soup = bs(r.content)\n",
        "contents = soup.prettify()\n",
        "contents"
      ],
      "execution_count": null,
      "outputs": []
    },
    {
      "cell_type": "code",
      "metadata": {
        "id": "-zvEO1QuZX14"
      },
      "source": [
        "info_box = soup.find(class_=\"infobox vevent\")\n",
        "info_rows = info_box.find_all(\"tr\")\n",
        "\n",
        "for row in info_rows:\n",
        "  row.prettify()"
      ],
      "execution_count": null,
      "outputs": []
    },
    {
      "cell_type": "code",
      "metadata": {
        "id": "buHv7qFIdMna"
      },
      "source": [
        "movie_info = {}\n",
        "\n",
        "def get_content_value(row_data):\n",
        "  if row_data.find(\"li\"):\n",
        "    return [li.get_text(\" \", strip=True).replace(\"\\xa0\", \"\") for li in row_data.find_all(\"li\")]\n",
        "  else:\n",
        "    return row_data.get_text(\" \", strip=True).replace(\"\\xa0\", \"\")\n",
        "\n",
        "for index, row in enumerate(info_rows):\n",
        "  if index == 0:\n",
        "    movie_info['title'] = row.find(\"th\").get_text(\" \", strip=True)\n",
        "  elif index == 1:\n",
        "    continue\n",
        "  else:\n",
        "    content_key = row.find(\"th\").get_text(\" \", strip=True)\n",
        "    content_value = get_content_value(row.find(\"td\"))\n",
        "    movie_info[content_key] = content_value"
      ],
      "execution_count": null,
      "outputs": []
    },
    {
      "cell_type": "code",
      "metadata": {
        "id": "GDRCfh2yhhdp"
      },
      "source": [
        "r = requests.get(\"https://en.wikipedia.org/wiki/List_of_Walt_Disney_Pictures_films\")\n",
        "\n",
        "soup = bs(r.content)\n",
        "contents = soup.prettify()\n",
        "\n",
        "movies - soup.select(\".wikitable.sortable\")\n",
        "\n",
        "movies[0].a[\"title\"]"
      ],
      "execution_count": null,
      "outputs": []
    },
    {
      "cell_type": "code",
      "metadata": {
        "id": "OCoPEgF3jeK4"
      },
      "source": [
        "def get_content_value(row_data):\n",
        "  if row_data.find(\"li\"):\n",
        "    return [li.get_text(\" \", strip=True).replace(\"\\xa0\", \"\") for li in row_data.find_all(\"li\")]\n",
        "  else:\n",
        "    return row_data.get_text(\" \", strip=True).replace(\"\\xa0\", \"\")\n",
        "\n",
        "def get_info_box(url):\n",
        "\n",
        "  r = requests.get(url)\n",
        "\n",
        "  soup = bs(r.content)\n",
        "  info_box = soup.find(class_=\"infobox vevent\")\n",
        "  info_rows = info_box.find_all(\"tr\")\n",
        "\n",
        "  movie_info = {}\n",
        "  for index, row in enumerate(info_rows):\n",
        "    if index == 0:\n",
        "      movie_info['title'] = row.find(\"th\").get_text(\" \", strip=True)\n",
        "    elif index == 1:\n",
        "      continue\n",
        "    else:\n",
        "      content_key = row.find(\"th\").get_text(\" \", strip=True)\n",
        "      content_value = get_content_value(row.find(\"td\"))\n",
        "      movie_info[content_key] = content_value  \n",
        "\n",
        "  return movie_info"
      ],
      "execution_count": null,
      "outputs": []
    },
    {
      "cell_type": "code",
      "metadata": {
        "id": "U3G7OYWBkQP2"
      },
      "source": [
        "r = requests.get(\"https://en.wikipedia.org/wiki/List_of_Walt_Disney_Pictures_films\")\n",
        "\n",
        "soup = bs(r.content)\n",
        "movies = soup.select(\".wikitable.sortable i a\")\n",
        "base_path = \"https://en.wikipedia.org/\"\n",
        "\n",
        "for index, movie in enumerate(movies):\n",
        "  relative_path = movie['href']\n",
        "  full_path = base_path + relative_path\n",
        "  title = movie[\"title\"]\n",
        "\n",
        "  \n",
        "  break\n"
      ],
      "execution_count": null,
      "outputs": []
    },
    {
      "cell_type": "code",
      "metadata": {
        "id": "Be7W-_9nlVyL"
      },
      "source": [
        "import json\n",
        "\n",
        "def save_data(title, data):\n",
        "  with open(title, 'w', encoding='utf-8') as f:\n",
        "    json.dump(data, f, ensure_ascii=False, indent=2)"
      ],
      "execution_count": null,
      "outputs": []
    },
    {
      "cell_type": "code",
      "metadata": {
        "id": "u8yMF-A8HkJ4"
      },
      "source": [
        "import json\n",
        "\n",
        "def load_data(title):\n",
        "  with open(title, encoding=\"utf-8\") as f:\n",
        "    return json.load(f)"
      ],
      "execution_count": null,
      "outputs": []
    },
    {
      "cell_type": "code",
      "metadata": {
        "id": "SWrjuGO0H1I5"
      },
      "source": [
        "save_data(\"disney_data.json\", movie_info_list)"
      ],
      "execution_count": null,
      "outputs": []
    }
  ]
}