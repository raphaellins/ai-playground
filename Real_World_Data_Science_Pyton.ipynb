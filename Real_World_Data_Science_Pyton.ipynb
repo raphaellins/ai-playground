{
  "nbformat": 4,
  "nbformat_minor": 0,
  "metadata": {
    "colab": {
      "name": "Real_World_Data_Science_Pyton.ipynb",
      "provenance": [],
      "collapsed_sections": [],
      "authorship_tag": "ABX9TyMdAmfTsNR0hUTTnoZZYnNO",
      "include_colab_link": true
    },
    "kernelspec": {
      "name": "python3",
      "display_name": "Python 3"
    }
  },
  "cells": [
    {
      "cell_type": "markdown",
      "metadata": {
        "id": "view-in-github",
        "colab_type": "text"
      },
      "source": [
        "<a href=\"https://colab.research.google.com/github/raphaellins/ai-playground/blob/master/Real_World_Data_Science_Pyton.ipynb\" target=\"_parent\"><img src=\"https://colab.research.google.com/assets/colab-badge.svg\" alt=\"Open In Colab\"/></a>"
      ]
    },
    {
      "cell_type": "code",
      "metadata": {
        "id": "w7jZdiehXA7Y"
      },
      "source": [
        "from bs4 import BeautifulSoup as bs\n",
        "import requests"
      ],
      "execution_count": 2,
      "outputs": []
    },
    {
      "cell_type": "code",
      "metadata": {
        "id": "12OkVAmBYZ_a"
      },
      "source": [
        "r = requests.get(\"https://en.wikipedia.org/wiki/Toy_Story_3\")\n",
        "\n",
        "soup = bs(r.content)\n",
        "contents = soup.prettify()\n",
        "contents"
      ],
      "execution_count": null,
      "outputs": []
    },
    {
      "cell_type": "code",
      "metadata": {
        "id": "-zvEO1QuZX14"
      },
      "source": [
        "info_box = soup.find(class_=\"infobox vevent\")\n",
        "info_rows = info_box.find_all(\"tr\")\n",
        "\n",
        "for row in info_rows:\n",
        "  row.prettify()"
      ],
      "execution_count": 5,
      "outputs": []
    },
    {
      "cell_type": "code",
      "metadata": {
        "id": "buHv7qFIdMna"
      },
      "source": [
        "movie_info = {}\n",
        "\n",
        "def get_content_value(row_data):\n",
        "  if row_data.find(\"li\"):\n",
        "    return [li.get_text(\" \", strip=True).replace(\"\\xa0\", \"\") for li in row_data.find_all(\"li\")]\n",
        "  else:\n",
        "    return row_data.get_text(\" \", strip=True).replace(\"\\xa0\", \"\")\n",
        "\n",
        "for index, row in enumerate(info_rows):\n",
        "  if index == 0:\n",
        "    movie_info['title'] = row.find(\"th\").get_text(\" \", strip=True)\n",
        "  elif index == 1:\n",
        "    continue\n",
        "  else:\n",
        "    content_key = row.find(\"th\").get_text(\" \", strip=True)\n",
        "    content_value = get_content_value(row.find(\"td\"))\n",
        "    movie_info[content_key] = content_value"
      ],
      "execution_count": 9,
      "outputs": []
    }
  ]
}