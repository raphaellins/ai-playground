{
  "nbformat": 4,
  "nbformat_minor": 0,
  "metadata": {
    "colab": {
      "name": "signal_classification_tensorflow2.ipynb",
      "provenance": [],
      "collapsed_sections": [],
      "mount_file_id": "1zRsw6qurSZr1bK83FOr8KaMBZiay9ImV",
      "authorship_tag": "ABX9TyPDhivge44g7d3Raev93McY",
      "include_colab_link": true
    },
    "kernelspec": {
      "name": "python3",
      "display_name": "Python 3"
    }
  },
  "cells": [
    {
      "cell_type": "markdown",
      "metadata": {
        "id": "view-in-github",
        "colab_type": "text"
      },
      "source": [
        "<a href=\"https://colab.research.google.com/github/raphaellins/ai-playground/blob/master/signal_classification_tensorflow2.ipynb\" target=\"_parent\"><img src=\"https://colab.research.google.com/assets/colab-badge.svg\" alt=\"Open In Colab\"/></a>"
      ]
    },
    {
      "cell_type": "code",
      "metadata": {
        "id": "qtc-msfpgqR6"
      },
      "source": [
        "%tensorflow_version 2.x\n",
        "import tensorflow as tf\n",
        "import pandas as pd\n",
        "import numpy as np\n",
        "import seaborn as sns\n",
        "import matplotlib.pyplot as plt\n",
        "import os\n",
        "import PIL\n",
        "from tensorflow.keras import layers\n",
        "import pickle\n",
        "import zipfile"
      ],
      "execution_count": 2,
      "outputs": []
    },
    {
      "cell_type": "code",
      "metadata": {
        "id": "5g-e3XrhkSIX"
      },
      "source": [
        "zip_object = zipfile.ZipFile(file=\"/content/drive/MyDrive/machine_learning_practice/traffic-signs-data.zip\", mode=\"r\")\n",
        "zip_object.extractall('./')\n",
        "zip_object.close()\n"
      ],
      "execution_count": 3,
      "outputs": []
    },
    {
      "cell_type": "code",
      "metadata": {
        "id": "a72AISAumgX-"
      },
      "source": [
        "with open('/content/traffic-signs-data/train.p', mode=\"rb\") as training_data:\n",
        "  train = pickle.load(training_data)\n",
        "\n",
        "with open('/content/traffic-signs-data/test.p', mode=\"rb\") as testing_data:\n",
        "  test = pickle.load(testing_data)\n",
        "\n",
        "with open('/content/traffic-signs-data/valid.p', mode=\"rb\") as validation_data:\n",
        "  valid = pickle.load(validation_data)"
      ],
      "execution_count": null,
      "outputs": []
    },
    {
      "cell_type": "code",
      "metadata": {
        "id": "IE398yiqm5QA"
      },
      "source": [
        "X_train, y_train = train[ 'features'], train['labels']\n",
        "X_test, y_test = test[ 'features'], test['labels']\n",
        "X_validation, y_validation = valid[ 'features'], valid['labels']"
      ],
      "execution_count": 9,
      "outputs": []
    },
    {
      "cell_type": "code",
      "metadata": {
        "colab": {
          "base_uri": "https://localhost:8080/"
        },
        "id": "dJWR3qPZnWfk",
        "outputId": "8d6f3231-ccd1-4c45-8590-36cd984b35b3"
      },
      "source": [
        "X_train.shape"
      ],
      "execution_count": 7,
      "outputs": [
        {
          "output_type": "execute_result",
          "data": {
            "text/plain": [
              "(34799, 32, 32, 3)"
            ]
          },
          "metadata": {
            "tags": []
          },
          "execution_count": 7
        }
      ]
    },
    {
      "cell_type": "code",
      "metadata": {
        "id": "fHZ5FeWOnac6"
      },
      "source": [
        "i = 3100\n",
        "plt.imshow(X_train[i])\n",
        "y_train[i]"
      ],
      "execution_count": null,
      "outputs": []
    },
    {
      "cell_type": "code",
      "metadata": {
        "id": "jwjE9doAnfvD"
      },
      "source": [
        "from sklearn.utils import shuffle\n",
        "X_train, y_train = shuffle(X_train, y_train)"
      ],
      "execution_count": 12,
      "outputs": []
    },
    {
      "cell_type": "code",
      "metadata": {
        "id": "cXq_ECNboLgC"
      },
      "source": [
        "X_train_gray = np.sum(X_train  / 3, axis = 3, keepdims = True)\n",
        "X_test_gray = np.sum(X_test  / 3, axis = 3, keepdims = True)\n",
        "X_validation_gray = np.sum(X_validation  / 3, axis = 3, keepdims = True)"
      ],
      "execution_count": 13,
      "outputs": []
    },
    {
      "cell_type": "code",
      "metadata": {
        "id": "dA9hbXv4o9x2"
      },
      "source": [
        "X_train_gray_norm = (X_train_gray - 128) / 128\n",
        "X_test_gray_norm = (X_test_gray - 128) / 128\n",
        "X_validation_gray_norm = (X_validation_gray - 128) / 128"
      ],
      "execution_count": 15,
      "outputs": []
    },
    {
      "cell_type": "code",
      "metadata": {
        "colab": {
          "base_uri": "https://localhost:8080/",
          "height": 798
        },
        "id": "zR0dXW_Zpi--",
        "outputId": "76b7b92f-cbe2-44eb-93f6-b834e28c8420"
      },
      "source": [
        "i = 60\n",
        "plt.imshow(X_train_gray[i].squeeze(), cmap='gray')\n",
        "plt.figure()\n",
        "plt.imshow(X_train[i])\n",
        "plt.figure()\n",
        "plt.imshow(X_train_gray_norm[i].squeeze(), cmap='gray')\n",
        "plt.figure()"
      ],
      "execution_count": 18,
      "outputs": [
        {
          "output_type": "execute_result",
          "data": {
            "text/plain": [
              "<Figure size 432x288 with 0 Axes>"
            ]
          },
          "metadata": {
            "tags": []
          },
          "execution_count": 18
        },
        {
          "output_type": "display_data",
          "data": {
            "image/png": "[encoded data removed]",
            "text/plain": [
              "<Figure size 432x288 with 1 Axes>"
            ]
          },
          "metadata": {
            "tags": [],
            "needs_background": "light"
          }
        },
        {
          "output_type": "display_data",
          "data": {
            "image/png": "[encoded data removed]",
            "text/plain": [
              "<Figure size 432x288 with 1 Axes>"
            ]
          },
          "metadata": {
            "tags": [],
            "needs_background": "light"
          }
        },
        {
          "output_type": "display_data",
          "data": {
            "image/png": "[encoded data removed]",
            "text/plain": [
              "<Figure size 432x288 with 1 Axes>"
            ]
          },
          "metadata": {
            "tags": [],
            "needs_background": "light"
          }
        },
        {
          "output_type": "display_data",
          "data": {
            "text/plain": [
              "<Figure size 432x288 with 0 Axes>"
            ]
          },
          "metadata": {
            "tags": []
          }
        }
      ]
    },
    {
      "cell_type": "code",
      "metadata": {
        "colab": {
          "base_uri": "https://localhost:8080/",
          "height": 798
        },
        "id": "hmKXnKLNp_SJ",
        "outputId": "943546ee-169b-493c-f3a3-b280e9282fca"
      },
      "source": [
        "i = 610\n",
        "plt.imshow(X_test_gray[i].squeeze(), cmap='gray')\n",
        "plt.figure()\n",
        "plt.imshow(X_test[i])\n",
        "plt.figure()\n",
        "plt.imshow(X_test_gray_norm[i].squeeze(), cmap='gray')\n",
        "plt.figure()"
      ],
      "execution_count": 19,
      "outputs": [
        {
          "output_type": "execute_result",
          "data": {
            "text/plain": [
              "<Figure size 432x288 with 0 Axes>"
            ]
          },
          "metadata": {
            "tags": []
          },
          "execution_count": 19
        },
        {
          "output_type": "display_data",
          "data": {
            "image/png": "[encoded data removed]",
            "text/plain": [
              "<Figure size 432x288 with 1 Axes>"
            ]
          },
          "metadata": {
            "tags": [],
            "needs_background": "light"
          }
        },
        {
          "output_type": "display_data",
          "data": {
            "image/png": "[encoded data removed]",
            "text/plain": [
              "<Figure size 432x288 with 1 Axes>"
            ]
          },
          "metadata": {
            "tags": [],
            "needs_background": "light"
          }
        },
        {
          "output_type": "display_data",
          "data": {
            "image/png": "[encoded data removed]",
            "text/plain": [
              "<Figure size 432x288 with 1 Axes>"
            ]
          },
          "metadata": {
            "tags": [],
            "needs_background": "light"
          }
        },
        {
          "output_type": "display_data",
          "data": {
            "text/plain": [
              "<Figure size 432x288 with 0 Axes>"
            ]
          },
          "metadata": {
            "tags": []
          }
        }
      ]
    },
    {
      "cell_type": "code",
      "metadata": {
        "colab": {
          "base_uri": "https://localhost:8080/",
          "height": 798
        },
        "id": "QfSlbRfKqEJz",
        "outputId": "165ffcc0-003a-4cc1-8ed9-6cd08760ca5c"
      },
      "source": [
        "i = 500\n",
        "plt.imshow(X_validation_gray[i].squeeze(), cmap='gray')\n",
        "plt.figure()\n",
        "plt.imshow(X_validation[i])\n",
        "plt.figure()\n",
        "plt.imshow(X_validation_gray_norm[i].squeeze(), cmap='gray')\n",
        "plt.figure()"
      ],
      "execution_count": 20,
      "outputs": [
        {
          "output_type": "execute_result",
          "data": {
            "text/plain": [
              "<Figure size 432x288 with 0 Axes>"
            ]
          },
          "metadata": {
            "tags": []
          },
          "execution_count": 20
        },
        {
          "output_type": "display_data",
          "data": {
            "image/png": "[encoded data removed]",
            "text/plain": [
              "<Figure size 432x288 with 1 Axes>"
            ]
          },
          "metadata": {
            "tags": [],
            "needs_background": "light"
          }
        },
        {
          "output_type": "display_data",
          "data": {
            "image/png": "[encoded data removed]",
            "text/plain": [
              "<Figure size 432x288 with 1 Axes>"
            ]
          },
          "metadata": {
            "tags": [],
            "needs_background": "light"
          }
        },
        {
          "output_type": "display_data",
          "data": {
            "image/png": "[encoded data removed]",
            "text/plain": [
              "<Figure size 432x288 with 1 Axes>"
            ]
          },
          "metadata": {
            "tags": [],
            "needs_background": "light"
          }
        },
        {
          "output_type": "display_data",
          "data": {
            "text/plain": [
              "<Figure size 432x288 with 0 Axes>"
            ]
          },
          "metadata": {
            "tags": []
          }
        }
      ]
    },
    {
      "cell_type": "code",
      "metadata": {
        "colab": {
          "base_uri": "https://localhost:8080/"
        },
        "id": "FnjycLp7qKJA",
        "outputId": "9e181f9e-da1b-459f-fc86-ee27a61198f3"
      },
      "source": [
        "from tensorflow.keras import layers, models\n",
        "\n",
        "LeNet = models.Sequential()\n",
        "\n",
        "LeNet.add(layers.Conv2D(6, (5, 5), activation='relu', input_shape = (32, 32,1)))\n",
        "LeNet.add(layers.AveragePooling2D())\n",
        "\n",
        "LeNet.add(layers.Conv2D(16, (5, 5), activation='relu'))\n",
        "LeNet.add(layers.AveragePooling2D())\n",
        "\n",
        "LeNet.add(layers.Flatten())\n",
        "\n",
        "LeNet.add(layers.Dense(120, activation=\"relu\"))\n",
        "\n",
        "LeNet.add(layers.Dense(84, activation=\"relu\"))\n",
        "\n",
        "LeNet.add(layers.Dense(43, activation=\"softmax\"))\n",
        "\n",
        "LeNet.summary()"
      ],
      "execution_count": 21,
      "outputs": [
        {
          "output_type": "stream",
          "text": [
            "Model: \"sequential\"\n",
            "_________________________________________________________________\n",
            "Layer (type)                 Output Shape              Param #   \n",
            "=================================================================\n",
            "conv2d (Conv2D)              (None, 28, 28, 6)         156       \n",
            "_________________________________________________________________\n",
            "average_pooling2d (AveragePo (None, 14, 14, 6)         0         \n",
            "_________________________________________________________________\n",
            "conv2d_1 (Conv2D)            (None, 10, 10, 16)        2416      \n",
            "_________________________________________________________________\n",
            "average_pooling2d_1 (Average (None, 5, 5, 16)          0         \n",
            "_________________________________________________________________\n",
            "flatten (Flatten)            (None, 400)               0         \n",
            "_________________________________________________________________\n",
            "dense (Dense)                (None, 120)               48120     \n",
            "_________________________________________________________________\n",
            "dense_1 (Dense)              (None, 84)                10164     \n",
            "_________________________________________________________________\n",
            "dense_2 (Dense)              (None, 43)                3655      \n",
            "=================================================================\n",
            "Total params: 64,511\n",
            "Trainable params: 64,511\n",
            "Non-trainable params: 0\n",
            "_________________________________________________________________\n"
          ],
          "name": "stdout"
        }
      ]
    },
    {
      "cell_type": "code",
      "metadata": {
        "id": "9qv5MJ1ouDtt"
      },
      "source": [
        "LeNet.compile(optimizer=\"Adam\", loss=\"sparse_categorical_crossentropy\", metrics= [\"accuracy\"])"
      ],
      "execution_count": 22,
      "outputs": []
    },
    {
      "cell_type": "code",
      "metadata": {
        "id": "Bu5hwuGWuONA"
      },
      "source": [
        "history = LeNet.fit(X_train_gray_norm, y_train, batch_size=500, epochs=50, validation_data=(X_validation_gray_norm, y_validation))"
      ],
      "execution_count": null,
      "outputs": []
    },
    {
      "cell_type": "code",
      "metadata": {
        "colab": {
          "base_uri": "https://localhost:8080/"
        },
        "id": "oBL8jF3Ju3_w",
        "outputId": "417be4aa-23e7-4484-e828-544e16ee19d3"
      },
      "source": [
        "score = LeNet.evaluate(X_test_gray_norm, y_test)\n",
        "print(\"Test Accuracy: {}\".format(score[1]))"
      ],
      "execution_count": 24,
      "outputs": [
        {
          "output_type": "stream",
          "text": [
            "9/9 [==============================] - 1s 80ms/step - loss: 0.6971 - accuracy: 0.7961\n",
            "Test Accuracy: 0.7961451411247253\n"
          ],
          "name": "stdout"
        }
      ]
    },
    {
      "cell_type": "code",
      "metadata": {
        "id": "4RRT1_4Lv-1L"
      },
      "source": [
        "history.history.keys()"
      ],
      "execution_count": null,
      "outputs": []
    },
    {
      "cell_type": "code",
      "metadata": {
        "id": "fM8dM0lcwCHl"
      },
      "source": [
        "accuracy = history.history['accuracy']\n",
        "val_accuracy = history.history['val_accuracy']\n",
        "loss = history.history['loss']\n",
        "val_loss = history.history['val_loss']"
      ],
      "execution_count": null,
      "outputs": []
    },
    {
      "cell_type": "code",
      "metadata": {
        "id": "esUQlNIJwZPW"
      },
      "source": [
        "epochs = range(len(accuracy))\n",
        "plt.plot(epochs, accuracy, 'bo', color = 'r', label='Training Accuracy')\n",
        "plt.plot(epochs, val_accuracy, 'b', label='Validation Accuracy')\n",
        "plt.title('Training and Validation Accuracy')\n",
        "plt.legend();"
      ],
      "execution_count": null,
      "outputs": []
    },
    {
      "cell_type": "code",
      "metadata": {
        "id": "y1dCl9RAwZ6w"
      },
      "source": [
        "plt.plot(epochs, loss, 'ro', label='Training loss')\n",
        "plt.plot(epochs, val_loss, 'r', label='Validation loss')\n",
        "plt.title('Training and Validation loss')\n",
        "plt.legend();"
      ],
      "execution_count": null,
      "outputs": []
    },
    {
      "cell_type": "code",
      "metadata": {
        "id": "MO78RL8awdK5"
      },
      "source": [
        "predicted_classes = LeNet.predict_classes(X_test_gray_norm)\n",
        "y_true = y_test"
      ],
      "execution_count": null,
      "outputs": []
    },
    {
      "cell_type": "code",
      "metadata": {
        "id": "AEULzfmxwe5H"
      },
      "source": [
        "from sklearn.metrics import confusion_matrix\n",
        "cm = confusion_matrix(y_true, predicted_classes)\n",
        "plt.figure(figsize = (25, 25))\n",
        "sns.heatmap(cm, annot = True);"
      ],
      "execution_count": null,
      "outputs": []
    },
    {
      "cell_type": "code",
      "metadata": {
        "id": "omCKWxdawhXp"
      },
      "source": [
        "L = 7\n",
        "W = 7\n",
        "\n",
        "fig, axes = plt.subplots(L, W, figsize = (12, 12))\n",
        "axes = axes.ravel()\n",
        "\n",
        "for i in np.arange(0, L*W):\n",
        "    axes[i].imshow(X_test[i])\n",
        "    axes[i].set_title('Prediction = {}\\n True = {}'.format(predicted_classes[i], y_true[i]))\n",
        "    axes[i].axis('off')\n",
        "\n",
        "plt.subplots_adjust(wspace = 1)    "
      ],
      "execution_count": null,
      "outputs": []
    }
  ]
}