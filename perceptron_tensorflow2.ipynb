{
  "nbformat": 4,
  "nbformat_minor": 0,
  "metadata": {
    "colab": {
      "name": "perceptron_tensorflow2.ipynb",
      "provenance": [],
      "mount_file_id": "1xT2U-fkOUzwCcizwqhBTKsisL1frr2ie",
      "authorship_tag": "ABX9TyPrcKmBjaehyQWyKEsKbXkt",
      "include_colab_link": true
    },
    "kernelspec": {
      "name": "python3",
      "display_name": "Python 3"
    }
  },
  "cells": [
    {
      "cell_type": "markdown",
      "metadata": {
        "id": "view-in-github",
        "colab_type": "text"
      },
      "source": [
        "<a href=\"https://colab.research.google.com/github/raphaellins/ai-playground/blob/master/perceptron_tensorflow2.ipynb\" target=\"_parent\"><img src=\"https://colab.research.google.com/assets/colab-badge.svg\" alt=\"Open In Colab\"/></a>"
      ]
    },
    {
      "cell_type": "markdown",
      "metadata": {
        "id": "wSk5JdZZAcae"
      },
      "source": [
        "The basic modeling\n",
        "\n"
      ]
    },
    {
      "cell_type": "code",
      "metadata": {
        "id": "jkD7he4n8MJY"
      },
      "source": [
        "%tensorflow_version 2.x"
      ],
      "execution_count": 4,
      "outputs": []
    },
    {
      "cell_type": "code",
      "metadata": {
        "id": "dggRkNRV8UpV"
      },
      "source": [
        "import tensorflow\n",
        "import numpy as np\n",
        "import pandas as pd\n",
        "import seaborn as sns\n",
        "import matplotlib.pyplot as plt\n",
        "import datetime\n",
        "import tensorflow as tf\n",
        "from tensorflow.keras.datasets import fashion_mnist"
      ],
      "execution_count": 24,
      "outputs": []
    },
    {
      "cell_type": "code",
      "metadata": {
        "id": "sLqmku-l8ik9"
      },
      "source": [
        "temperature_df = pd.read_csv('/content/drive/My Drive/machine_learning_practice/Celsius-to-Fahrenheit.csv')\n",
        "temperature_df.reset_index(drop = True, inplace = True)"
      ],
      "execution_count": null,
      "outputs": []
    },
    {
      "cell_type": "code",
      "metadata": {
        "id": "VzQKFqLtBUsw"
      },
      "source": [
        "temperature_df.describe()"
      ],
      "execution_count": null,
      "outputs": []
    },
    {
      "cell_type": "code",
      "metadata": {
        "id": "1O3jRGrJCOmO",
        "outputId": "5e614de4-38b4-4a0a-e591-f12a1d074c3b",
        "colab": {
          "base_uri": "https://localhost:8080/",
          "height": 333
        }
      },
      "source": [
        "sns.scatterplot(temperature_df['Celsius'], temperature_df['Fahrenheit']);"
      ],
      "execution_count": 15,
      "outputs": [
        {
          "output_type": "stream",
          "text": [
            "/usr/local/lib/python3.6/dist-packages/seaborn/_decorators.py:43: FutureWarning: Pass the following variables as keyword args: x, y. From version 0.12, the only valid positional argument will be `data`, and passing other arguments without an explicit keyword will result in an error or misinterpretation.\n",
            "  FutureWarning\n"
          ],
          "name": "stderr"
        },
        {
          "output_type": "display_data",
          "data": {
            "image/png": "[encoded data removed]",
            "text/plain": [
              "<Figure size 432x288 with 1 Axes>"
            ]
          },
          "metadata": {
            "tags": [],
            "needs_background": "light"
          }
        }
      ]
    },
    {
      "cell_type": "code",
      "metadata": {
        "id": "GoP5HDeeCleq"
      },
      "source": [
        "X_train = temperature_df['Celsius']\n",
        "y_train = temperature_df['Fahrenheit']"
      ],
      "execution_count": 19,
      "outputs": []
    },
    {
      "cell_type": "code",
      "metadata": {
        "id": "HpdziJFrC2sh",
        "outputId": "3cd28090-9292-41ed-8294-8f1b6a1a8625",
        "colab": {
          "base_uri": "https://localhost:8080/"
        }
      },
      "source": [
        "model = tensorflow.keras.Sequential()\n",
        "model.add(tensorflow.keras.layers.Dense(units=1, input_shape = [1]))\n",
        "model.summary()"
      ],
      "execution_count": 16,
      "outputs": [
        {
          "output_type": "stream",
          "text": [
            "Model: \"sequential\"\n",
            "_________________________________________________________________\n",
            "Layer (type)                 Output Shape              Param #   \n",
            "=================================================================\n",
            "dense (Dense)                (None, 1)                 2         \n",
            "=================================================================\n",
            "Total params: 2\n",
            "Trainable params: 2\n",
            "Non-trainable params: 0\n",
            "_________________________________________________________________\n"
          ],
          "name": "stdout"
        }
      ]
    },
    {
      "cell_type": "code",
      "metadata": {
        "id": "NnkAyt9HDp_5"
      },
      "source": [
        "model.compile(optimizer=tensorflow.keras.optimizers.Adam(0.1), loss = 'mean_squared_error')"
      ],
      "execution_count": 17,
      "outputs": []
    },
    {
      "cell_type": "code",
      "metadata": {
        "id": "Caaq_HXYD7I_"
      },
      "source": [
        "epochs_hist = model.fit(X_train, y_train, epochs=500)"
      ],
      "execution_count": null,
      "outputs": []
    },
    {
      "cell_type": "code",
      "metadata": {
        "id": "OvuSECkJELNY",
        "outputId": "70b88959-35a4-4b52-e11c-93e08d2625c7",
        "colab": {
          "base_uri": "https://localhost:8080/"
        }
      },
      "source": [
        "epochs_hist.history.keys()"
      ],
      "execution_count": 21,
      "outputs": [
        {
          "output_type": "execute_result",
          "data": {
            "text/plain": [
              "dict_keys(['loss'])"
            ]
          },
          "metadata": {
            "tags": []
          },
          "execution_count": 21
        }
      ]
    },
    {
      "cell_type": "code",
      "metadata": {
        "id": "y7wosA1jE5Xs",
        "outputId": "c2c92ea8-ae46-496d-ed90-851b8fa7c061",
        "colab": {
          "base_uri": "https://localhost:8080/",
          "height": 312
        }
      },
      "source": [
        "plt.plot(epochs_hist.history['loss'])\n",
        "plt.title('Model loss progress during training')\n",
        "plt.xlabel('Epoch')\n",
        "plt.ylabel('Training loss')\n",
        "plt.legend(['Training Loss'])"
      ],
      "execution_count": 26,
      "outputs": [
        {
          "output_type": "execute_result",
          "data": {
            "text/plain": [
              "<matplotlib.legend.Legend at 0x7f5b7017a128>"
            ]
          },
          "metadata": {
            "tags": []
          },
          "execution_count": 26
        },
        {
          "output_type": "display_data",
          "data": {
            "image/png": "[encoded data removed]",
            "text/plain": [
              "<Figure size 432x288 with 1 Axes>"
            ]
          },
          "metadata": {
            "tags": [],
            "needs_background": "light"
          }
        }
      ]
    },
    {
      "cell_type": "code",
      "metadata": {
        "id": "ebqVrWDTFty-",
        "outputId": "08329636-5735-4a43-d1da-fa2d372a1ef9",
        "colab": {
          "base_uri": "https://localhost:8080/"
        }
      },
      "source": [
        "model.get_weights()"
      ],
      "execution_count": 27,
      "outputs": [
        {
          "output_type": "execute_result",
          "data": {
            "text/plain": [
              "[array([[1.7989022]], dtype=float32), array([30.796257], dtype=float32)]"
            ]
          },
          "metadata": {
            "tags": []
          },
          "execution_count": 27
        }
      ]
    },
    {
      "cell_type": "code",
      "metadata": {
        "id": "0OEq5o4bF1la",
        "outputId": "092b72b1-a760-442a-e09f-4e9ffe3d03c7",
        "colab": {
          "base_uri": "https://localhost:8080/"
        }
      },
      "source": [
        "temp_c = 0\n",
        "temp_f = model.predict([temp_c])\n",
        "temp_f"
      ],
      "execution_count": 28,
      "outputs": [
        {
          "output_type": "execute_result",
          "data": {
            "text/plain": [
              "array([[30.796257]], dtype=float32)"
            ]
          },
          "metadata": {
            "tags": []
          },
          "execution_count": 28
        }
      ]
    },
    {
      "cell_type": "code",
      "metadata": {
        "id": "2yvJuRMmGO-c",
        "outputId": "8051a43b-bc1e-46ca-d64e-4aac9d117c21",
        "colab": {
          "base_uri": "https://localhost:8080/"
        }
      },
      "source": [
        "temp_f1 = 9/5 * temp_c + 32\n",
        "temp_f1"
      ],
      "execution_count": 29,
      "outputs": [
        {
          "output_type": "execute_result",
          "data": {
            "text/plain": [
              "32.0"
            ]
          },
          "metadata": {
            "tags": []
          },
          "execution_count": 29
        }
      ]
    },
    {
      "cell_type": "markdown",
      "metadata": {
        "id": "upu6rwqvHUnZ"
      },
      "source": [
        "# New learning with Sales Data "
      ]
    },
    {
      "cell_type": "code",
      "metadata": {
        "id": "C1QPyIxyGWm0"
      },
      "source": [
        "sales_df = pd.read_csv('/content/drive/My Drive/machine_learning_practice/SalesData.csv')"
      ],
      "execution_count": 30,
      "outputs": []
    },
    {
      "cell_type": "code",
      "metadata": {
        "id": "9G59AxDhH83v",
        "outputId": "4c87f2e4-ff1b-42bd-d9b5-5fbec549291a",
        "colab": {
          "base_uri": "https://localhost:8080/",
          "height": 333
        }
      },
      "source": [
        "sns.scatterplot(sales_df['Temperature'], sales_df['Revenue']);"
      ],
      "execution_count": 33,
      "outputs": [
        {
          "output_type": "stream",
          "text": [
            "/usr/local/lib/python3.6/dist-packages/seaborn/_decorators.py:43: FutureWarning: Pass the following variables as keyword args: x, y. From version 0.12, the only valid positional argument will be `data`, and passing other arguments without an explicit keyword will result in an error or misinterpretation.\n",
            "  FutureWarning\n"
          ],
          "name": "stderr"
        },
        {
          "output_type": "display_data",
          "data": {
            "image/png": "[encoded data removed]",
            "text/plain": [
              "<Figure size 432x288 with 1 Axes>"
            ]
          },
          "metadata": {
            "tags": [],
            "needs_background": "light"
          }
        }
      ]
    },
    {
      "cell_type": "code",
      "metadata": {
        "id": "dimjipZuIqut"
      },
      "source": [
        "X_train = sales_df['Temperature']\n",
        "y_train = sales_df['Revenue']"
      ],
      "execution_count": 34,
      "outputs": []
    },
    {
      "cell_type": "code",
      "metadata": {
        "id": "GsgRfH_9I1af"
      },
      "source": [
        "model = tensorflow.keras.Sequential()\n",
        "model.add(tf.keras.layers.Dense(units = 10, input_shape = [1]))\n",
        "model.add(tf.keras.layers.Dense(units = 1))"
      ],
      "execution_count": 39,
      "outputs": []
    },
    {
      "cell_type": "code",
      "metadata": {
        "id": "FffH-6X1I_nn"
      },
      "source": [
        "model.compile(optimizer=tensorflow.keras.optimizers.Adam(0.1), loss = \"mean_squared_error\")\n",
        "epochs_hist = model.fit(X_train, y_train, epochs = 1000)"
      ],
      "execution_count": null,
      "outputs": []
    },
    {
      "cell_type": "code",
      "metadata": {
        "id": "rLR60vJmJgIr",
        "outputId": "48bfc7c3-55c8-4dc8-ba92-2b11f04e8c2c",
        "colab": {
          "base_uri": "https://localhost:8080/"
        }
      },
      "source": [
        "epochs_hist.history.keys()"
      ],
      "execution_count": 41,
      "outputs": [
        {
          "output_type": "execute_result",
          "data": {
            "text/plain": [
              "dict_keys(['loss'])"
            ]
          },
          "metadata": {
            "tags": []
          },
          "execution_count": 41
        }
      ]
    },
    {
      "cell_type": "code",
      "metadata": {
        "id": "Wv7g1AFzKxcJ",
        "outputId": "c3c55e5e-fc32-4dca-9882-184c827db84b",
        "colab": {
          "base_uri": "https://localhost:8080/",
          "height": 312
        }
      },
      "source": [
        "plt.plot(epochs_hist.history['loss'])\n",
        "plt.title('Model loss progress during training')\n",
        "plt.xlabel('Epoch')\n",
        "plt.ylabel('Training loss')\n",
        "plt.legend(['Training Loss'])"
      ],
      "execution_count": 42,
      "outputs": [
        {
          "output_type": "execute_result",
          "data": {
            "text/plain": [
              "<matplotlib.legend.Legend at 0x7f5b7999eac8>"
            ]
          },
          "metadata": {
            "tags": []
          },
          "execution_count": 42
        },
        {
          "output_type": "display_data",
          "data": {
            "image/png": "[encoded data removed]",
            "text/plain": [
              "<Figure size 432x288 with 1 Axes>"
            ]
          },
          "metadata": {
            "tags": [],
            "needs_background": "light"
          }
        }
      ]
    },
    {
      "cell_type": "code",
      "metadata": {
        "id": "_yFEJeNwLJCK"
      },
      "source": [
        "temp = 5\n",
        "revenue = model.predict([temp])\n"
      ],
      "execution_count": 43,
      "outputs": []
    }
  ]
}