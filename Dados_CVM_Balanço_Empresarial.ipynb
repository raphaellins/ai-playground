{
  "nbformat": 4,
  "nbformat_minor": 0,
  "metadata": {
    "colab": {
      "name": "Dados CVM - Balanço Empresarial.ipynb",
      "provenance": [],
      "authorship_tag": "ABX9TyOCyqHAIv8yKaR8cxHLNm6m",
      "include_colab_link": true
    },
    "kernelspec": {
      "name": "python3",
      "display_name": "Python 3"
    }
  },
  "cells": [
    {
      "cell_type": "markdown",
      "metadata": {
        "id": "view-in-github",
        "colab_type": "text"
      },
      "source": [
        "<a href=\"https://colab.research.google.com/github/raphaellins/ai-playground/blob/master/Dados_CVM_Balan%C3%A7o_Empresarial.ipynb\" target=\"_parent\"><img src=\"https://colab.research.google.com/assets/colab-badge.svg\" alt=\"Open In Colab\"/></a>"
      ]
    },
    {
      "cell_type": "code",
      "metadata": {
        "id": "S41s3PTpsbCG"
      },
      "source": [
        "!pip install wget"
      ],
      "execution_count": null,
      "outputs": []
    },
    {
      "cell_type": "code",
      "metadata": {
        "id": "owt_21AZsjcr"
      },
      "source": [
        "import pandas as pd\n",
        "import wget\n",
        "from zipfile import ZipFile"
      ],
      "execution_count": 3,
      "outputs": []
    },
    {
      "cell_type": "code",
      "metadata": {
        "id": "G9wIizpGsnzf"
      },
      "source": [
        "url_base = 'http://dados.cvm.gov.br/dados/CIA_ABERTA/DOC/DFP/DADOS/'"
      ],
      "execution_count": 8,
      "outputs": []
    },
    {
      "cell_type": "code",
      "metadata": {
        "id": "BegBKBdTs0FZ"
      },
      "source": [
        "files_zip = []\n",
        "for year in range(2010, 2021):\n",
        "  files_zip.append(f'dfp_cia_aberta_{year}.zip')"
      ],
      "execution_count": 9,
      "outputs": []
    },
    {
      "cell_type": "code",
      "metadata": {
        "id": "7Fz0yUExtSBD"
      },
      "source": [
        "for fl in files_zip:\n",
        "  wget.download(url_base+fl)"
      ],
      "execution_count": 10,
      "outputs": []
    },
    {
      "cell_type": "code",
      "metadata": {
        "id": "0OAxUVPBttBY"
      },
      "source": [
        "for fl in files_zip:\n",
        "  ZipFile(fl, 'r').extractall('CVM')"
      ],
      "execution_count": 12,
      "outputs": []
    },
    {
      "cell_type": "code",
      "metadata": {
        "id": "HPXHbdWguBtY"
      },
      "source": [
        "names = ['BPA_con', 'BPA_ind', 'BPP_con', 'BPP_ind', 'DFC_MD_con', 'DFC_MD_ind', 'DFC_MI_con', 'DFC_MI, ind', 'DMPL_con']\n",
        "\n",
        "for name in names:\n",
        "  arr_file = pd.DataFrames()\n",
        "  for year in range(2010, 2021):\n",
        "    arr_file = pd.concat([arr_file, pd.read_csv(f'CVM/dfp_cia_aberta_{name}_{year}.csv', sep=';', decimal=',', encoding='utf-8')])\n",
        "  arr_file.to_csv(f'DADOS/dfp_cia_aberta_{name}_2010-2020', index=False)"
      ],
      "execution_count": null,
      "outputs": []
    }
  ]
}